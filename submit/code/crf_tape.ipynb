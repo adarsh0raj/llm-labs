{
 "cells": [
  {
   "cell_type": "code",
   "execution_count": 1,
   "metadata": {
    "colab": {
     "base_uri": "https://localhost:8080/"
    },
    "id": "OGkwOKpU5ovd",
    "outputId": "2a2f6805-3bf3-42e7-b70f-d3f19ccc46e1"
   },
   "outputs": [
    {
     "name": "stderr",
     "output_type": "stream",
     "text": [
      "2023-03-15 15:11:50.048394: I tensorflow/core/platform/cpu_feature_guard.cc:193] This TensorFlow binary is optimized with oneAPI Deep Neural Network Library (oneDNN) to use the following CPU instructions in performance-critical operations:  AVX2 FMA\n",
      "To enable them in other operations, rebuild TensorFlow with the appropriate compiler flags.\n",
      "2023-03-15 15:11:50.831649: W tensorflow/compiler/xla/stream_executor/platform/default/dso_loader.cc:64] Could not load dynamic library 'libnvinfer.so.7'; dlerror: libnvinfer.so.7: cannot open shared object file: No such file or directory; LD_LIBRARY_PATH: /usr/local/cuda/compat/lib.real:/opt/conda/lib/python3.8/site-packages/torch/lib:/opt/conda/lib/python3.8/site-packages/torch_tensorrt/lib:/usr/local/cuda/compat/lib:/usr/local/nvidia/lib:/usr/local/nvidia/lib64\n",
      "2023-03-15 15:11:50.831745: W tensorflow/compiler/xla/stream_executor/platform/default/dso_loader.cc:64] Could not load dynamic library 'libnvinfer_plugin.so.7'; dlerror: libnvinfer_plugin.so.7: cannot open shared object file: No such file or directory; LD_LIBRARY_PATH: /usr/local/cuda/compat/lib.real:/opt/conda/lib/python3.8/site-packages/torch/lib:/opt/conda/lib/python3.8/site-packages/torch_tensorrt/lib:/usr/local/cuda/compat/lib:/usr/local/nvidia/lib:/usr/local/nvidia/lib64\n",
      "2023-03-15 15:11:50.831754: W tensorflow/compiler/tf2tensorrt/utils/py_utils.cc:38] TF-TRT Warning: Cannot dlopen some TensorRT libraries. If you would like to use Nvidia GPU with TensorRT, please make sure the missing libraries mentioned above are installed properly.\n"
     ]
    },
    {
     "name": "stdout",
     "output_type": "stream",
     "text": [
      "2.11.0\n"
     ]
    }
   ],
   "source": [
    "import os\n",
    "import numpy as np\n",
    "from scipy.special import logsumexp\n",
    "import pandas as pd\n",
    "import tensorflow as tf\n",
    "from tqdm import tqdm\n",
    "import pickle\n",
    "import json\n",
    "import regex as re\n",
    "\n",
    "import matplotlib.pyplot as plt\n",
    "plt.style.use(\"ggplot\")\n",
    "\n",
    "print(tf.__version__)"
   ]
  },
  {
   "cell_type": "code",
   "execution_count": 5,
   "metadata": {},
   "outputs": [
    {
     "name": "stdout",
     "output_type": "stream",
     "text": [
      "Looking in indexes: https://pypi.org/simple, https://pypi.ngc.nvidia.com\n",
      "Collecting tensorflow\n",
      "  Downloading tensorflow-2.11.0-cp38-cp38-manylinux_2_17_x86_64.manylinux2014_x86_64.whl (588.3 MB)\n",
      "\u001b[K     |██████████████████████████▋     | 489.9 MB 92.2 MB/s eta 0:00:022"
     ]
    },
    {
     "name": "stderr",
     "output_type": "stream",
     "text": [
      "IOPub data rate exceeded.\n",
      "The notebook server will temporarily stop sending output\n",
      "to the client in order to avoid crashing it.\n",
      "To change this limit, set the config variable\n",
      "`--NotebookApp.iopub_data_rate_limit`.\n",
      "\n",
      "Current values:\n",
      "NotebookApp.iopub_data_rate_limit=1000000.0 (bytes/sec)\n",
      "NotebookApp.rate_limit_window=3.0 (secs)\n",
      "\n"
     ]
    },
    {
     "name": "stdout",
     "output_type": "stream",
     "text": [
      "\u001b[K     |████████████████████████████████| 588.3 MB 82.2 MB/s eta 0:00:01\n",
      "\u001b[?25hCollecting flatbuffers>=2.0\n",
      "  Downloading flatbuffers-23.3.3-py2.py3-none-any.whl (26 kB)\n",
      "Requirement already satisfied: grpcio<2.0,>=1.24.3 in /opt/conda/lib/python3.8/site-packages (from tensorflow) (1.47.0)\n",
      "Requirement already satisfied: packaging in /opt/conda/lib/python3.8/site-packages (from tensorflow) (21.3)\n",
      "Requirement already satisfied: setuptools in /opt/conda/lib/python3.8/site-packages (from tensorflow) (59.5.0)\n",
      "Collecting protobuf<3.20,>=3.9.2\n",
      "  Downloading protobuf-3.19.6-cp38-cp38-manylinux_2_17_x86_64.manylinux2014_x86_64.whl (1.1 MB)\n",
      "\u001b[K     |████████████████████████████████| 1.1 MB 108.0 MB/s eta 0:00:01\n",
      "\u001b[?25hCollecting tensorboard<2.12,>=2.11\n",
      "  Downloading tensorboard-2.11.2-py3-none-any.whl (6.0 MB)\n",
      "\u001b[K     |████████████████████████████████| 6.0 MB 116.4 MB/s eta 0:00:01\n",
      "\u001b[?25hCollecting libclang>=13.0.0\n",
      "  Downloading libclang-15.0.6.1-py2.py3-none-manylinux2010_x86_64.whl (21.5 MB)\n",
      "\u001b[K     |████████████████████████████████| 21.5 MB 115.5 MB/s eta 0:00:01\n",
      "\u001b[?25hCollecting tensorflow-estimator<2.12,>=2.11.0\n",
      "  Downloading tensorflow_estimator-2.11.0-py2.py3-none-any.whl (439 kB)\n",
      "\u001b[K     |████████████████████████████████| 439 kB 88.2 MB/s eta 0:00:01\n",
      "\u001b[?25hCollecting astunparse>=1.6.0\n",
      "  Downloading astunparse-1.6.3-py2.py3-none-any.whl (12 kB)\n",
      "Collecting termcolor>=1.1.0\n",
      "  Downloading termcolor-2.2.0-py3-none-any.whl (6.6 kB)\n",
      "Collecting google-pasta>=0.1.1\n",
      "  Downloading google_pasta-0.2.0-py3-none-any.whl (57 kB)\n",
      "\u001b[K     |████████████████████████████████| 57 kB 94.5 MB/s eta 0:00:01\n",
      "\u001b[?25hRequirement already satisfied: numpy>=1.20 in /opt/conda/lib/python3.8/site-packages (from tensorflow) (1.22.4)\n",
      "Collecting opt-einsum>=2.3.2\n",
      "  Downloading opt_einsum-3.3.0-py3-none-any.whl (65 kB)\n",
      "\u001b[K     |████████████████████████████████| 65 kB 97.1 MB/s  eta 0:00:01\n",
      "\u001b[?25hRequirement already satisfied: six>=1.12.0 in /opt/conda/lib/python3.8/site-packages (from tensorflow) (1.16.0)\n",
      "Collecting tensorflow-io-gcs-filesystem>=0.23.1\n",
      "  Downloading tensorflow_io_gcs_filesystem-0.31.0-cp38-cp38-manylinux_2_12_x86_64.manylinux2010_x86_64.whl (2.4 MB)\n",
      "\u001b[K     |████████████████████████████████| 2.4 MB 89.6 MB/s eta 0:00:01\n",
      "\u001b[?25hCollecting h5py>=2.9.0\n",
      "  Downloading h5py-3.8.0-cp38-cp38-manylinux_2_17_x86_64.manylinux2014_x86_64.whl (4.7 MB)\n",
      "\u001b[K     |████████████████████████████████| 4.7 MB 102.5 MB/s eta 0:00:01\n",
      "\u001b[?25hRequirement already satisfied: typing-extensions>=3.6.6 in /opt/conda/lib/python3.8/site-packages (from tensorflow) (4.3.0)\n",
      "Collecting gast<=0.4.0,>=0.2.1\n",
      "  Downloading gast-0.4.0-py3-none-any.whl (9.8 kB)\n",
      "Collecting keras<2.12,>=2.11.0\n",
      "  Downloading keras-2.11.0-py2.py3-none-any.whl (1.7 MB)\n",
      "\u001b[K     |████████████████████████████████| 1.7 MB 63.3 MB/s eta 0:00:01\n",
      "\u001b[?25hCollecting wrapt>=1.11.0\n",
      "  Downloading wrapt-1.15.0-cp38-cp38-manylinux_2_5_x86_64.manylinux1_x86_64.manylinux_2_17_x86_64.manylinux2014_x86_64.whl (81 kB)\n",
      "\u001b[K     |████████████████████████████████| 81 kB 101.9 MB/s eta 0:00:01\n",
      "\u001b[?25hRequirement already satisfied: absl-py>=1.0.0 in /opt/conda/lib/python3.8/site-packages (from tensorflow) (1.1.0)\n",
      "Requirement already satisfied: wheel<1.0,>=0.23.0 in /opt/conda/lib/python3.8/site-packages (from astunparse>=1.6.0->tensorflow) (0.37.1)\n",
      "Requirement already satisfied: google-auth-oauthlib<0.5,>=0.4.1 in /opt/conda/lib/python3.8/site-packages (from tensorboard<2.12,>=2.11->tensorflow) (0.4.6)\n",
      "Requirement already satisfied: requests<3,>=2.21.0 in /opt/conda/lib/python3.8/site-packages (from tensorboard<2.12,>=2.11->tensorflow) (2.27.1)\n",
      "Requirement already satisfied: markdown>=2.6.8 in /opt/conda/lib/python3.8/site-packages (from tensorboard<2.12,>=2.11->tensorflow) (3.3.7)\n",
      "Requirement already satisfied: google-auth<3,>=1.6.3 in /opt/conda/lib/python3.8/site-packages (from tensorboard<2.12,>=2.11->tensorflow) (2.9.0)\n",
      "Requirement already satisfied: tensorboard-plugin-wit>=1.6.0 in /opt/conda/lib/python3.8/site-packages (from tensorboard<2.12,>=2.11->tensorflow) (1.8.1)\n",
      "Requirement already satisfied: tensorboard-data-server<0.7.0,>=0.6.0 in /opt/conda/lib/python3.8/site-packages (from tensorboard<2.12,>=2.11->tensorflow) (0.6.1)\n",
      "Requirement already satisfied: werkzeug>=1.0.1 in /opt/conda/lib/python3.8/site-packages (from tensorboard<2.12,>=2.11->tensorflow) (2.1.2)\n",
      "Requirement already satisfied: pyasn1-modules>=0.2.1 in /opt/conda/lib/python3.8/site-packages (from google-auth<3,>=1.6.3->tensorboard<2.12,>=2.11->tensorflow) (0.2.8)\n",
      "Requirement already satisfied: rsa<5,>=3.1.4 in /opt/conda/lib/python3.8/site-packages (from google-auth<3,>=1.6.3->tensorboard<2.12,>=2.11->tensorflow) (4.8)\n",
      "Requirement already satisfied: cachetools<6.0,>=2.0.0 in /opt/conda/lib/python3.8/site-packages (from google-auth<3,>=1.6.3->tensorboard<2.12,>=2.11->tensorflow) (5.2.0)\n",
      "Requirement already satisfied: requests-oauthlib>=0.7.0 in /opt/conda/lib/python3.8/site-packages (from google-auth-oauthlib<0.5,>=0.4.1->tensorboard<2.12,>=2.11->tensorflow) (1.3.1)\n",
      "Requirement already satisfied: importlib-metadata>=4.4 in /opt/conda/lib/python3.8/site-packages (from markdown>=2.6.8->tensorboard<2.12,>=2.11->tensorflow) (4.12.0)\n",
      "Requirement already satisfied: zipp>=0.5 in /opt/conda/lib/python3.8/site-packages (from importlib-metadata>=4.4->markdown>=2.6.8->tensorboard<2.12,>=2.11->tensorflow) (3.8.0)\n",
      "Requirement already satisfied: pyasn1<0.5.0,>=0.4.6 in /opt/conda/lib/python3.8/site-packages (from pyasn1-modules>=0.2.1->google-auth<3,>=1.6.3->tensorboard<2.12,>=2.11->tensorflow) (0.4.8)\n",
      "Requirement already satisfied: charset-normalizer~=2.0.0 in /opt/conda/lib/python3.8/site-packages (from requests<3,>=2.21.0->tensorboard<2.12,>=2.11->tensorflow) (2.0.12)\n",
      "Requirement already satisfied: idna<4,>=2.5 in /opt/conda/lib/python3.8/site-packages (from requests<3,>=2.21.0->tensorboard<2.12,>=2.11->tensorflow) (3.3)\n",
      "Requirement already satisfied: certifi>=2017.4.17 in /opt/conda/lib/python3.8/site-packages (from requests<3,>=2.21.0->tensorboard<2.12,>=2.11->tensorflow) (2022.6.15)\n",
      "Requirement already satisfied: urllib3<1.27,>=1.21.1 in /opt/conda/lib/python3.8/site-packages (from requests<3,>=2.21.0->tensorboard<2.12,>=2.11->tensorflow) (1.26.9)\n",
      "Requirement already satisfied: oauthlib>=3.0.0 in /opt/conda/lib/python3.8/site-packages (from requests-oauthlib>=0.7.0->google-auth-oauthlib<0.5,>=0.4.1->tensorboard<2.12,>=2.11->tensorflow) (3.2.0)\n",
      "Requirement already satisfied: pyparsing!=3.0.5,>=2.0.2 in /opt/conda/lib/python3.8/site-packages (from packaging->tensorflow) (3.0.9)\n",
      "Installing collected packages: protobuf, wrapt, termcolor, tensorflow-io-gcs-filesystem, tensorflow-estimator, tensorboard, opt-einsum, libclang, keras, h5py, google-pasta, gast, flatbuffers, astunparse, tensorflow\n",
      "  Attempting uninstall: protobuf\n",
      "    Found existing installation: protobuf 3.20.1\n",
      "    Uninstalling protobuf-3.20.1:\n",
      "      Successfully uninstalled protobuf-3.20.1\n",
      "  Attempting uninstall: tensorboard\n",
      "    Found existing installation: tensorboard 2.9.1\n",
      "    Uninstalling tensorboard-2.9.1:\n",
      "      Successfully uninstalled tensorboard-2.9.1\n",
      "\u001b[31mERROR: pip's dependency resolver does not currently take into account all the packages that are installed. This behaviour is the source of the following dependency conflicts.\n",
      "cudf 22.6.0a0+319.g97422602b8 requires protobuf<3.21.0a0,>=3.20.1, but you have protobuf 3.19.6 which is incompatible.\u001b[0m\n",
      "Successfully installed astunparse-1.6.3 flatbuffers-23.3.3 gast-0.4.0 google-pasta-0.2.0 h5py-3.8.0 keras-2.11.0 libclang-15.0.6.1 opt-einsum-3.3.0 protobuf-3.19.6 tensorboard-2.11.2 tensorflow-2.11.0 tensorflow-estimator-2.11.0 tensorflow-io-gcs-filesystem-0.31.0 termcolor-2.2.0 wrapt-1.15.0\n",
      "\u001b[33mWARNING: Running pip as the 'root' user can result in broken permissions and conflicting behaviour with the system package manager. It is recommended to use a virtual environment instead: https://pip.pypa.io/warnings/venv\u001b[0m\n"
     ]
    }
   ],
   "source": [
    "!pip install tensorflow"
   ]
  },
  {
   "cell_type": "code",
   "execution_count": 2,
   "metadata": {
    "id": "Y6vDaclU571Z"
   },
   "outputs": [],
   "source": [
    "TAGS =  pickle.load(open( \"tags.pickle\", \"rb\" ))\n",
    "TAGS.remove(\"O\") \n",
    "NUM_TAGS = len(TAGS)"
   ]
  },
  {
   "cell_type": "code",
   "execution_count": 3,
   "metadata": {
    "id": "3sHEy-hz6RtS"
   },
   "outputs": [],
   "source": [
    "tag2id = {}\n",
    "for id,label in enumerate(TAGS):\n",
    "    tag2id[label] = id \n",
    "\n",
    "def label2id(labels):\n",
    "    ret = []\n",
    "    prev_label = \"\"\n",
    "    for label in labels:\n",
    "        if label == \"O\":\n",
    "            ret.append(str(2*NUM_TAGS))\n",
    "        elif label == prev_label:\n",
    "            l = [tag2id[t]+ NUM_TAGS for t in label]\n",
    "            for x in l:\n",
    "                ret.append(str(x))\n",
    "        else:\n",
    "            l =[tag2id[t] for t in label]\n",
    "            for x in l:\n",
    "                ret.append(str(x))\n",
    "        prev_label = label\n",
    "    return ret "
   ]
  },
  {
   "cell_type": "code",
   "execution_count": 4,
   "metadata": {
    "id": "YDGQj_ar6gEV"
   },
   "outputs": [],
   "source": [
    "def get_label(label_id):\n",
    "    if label_id == (2*NUM_TAGS):\n",
    "        return \"O\"\n",
    "    elif label_id >= NUM_TAGS:\n",
    "        return [TAGS[label_id-NUM_TAGS]]\n",
    "    else:\n",
    "        return TAGS[label_id]\n",
    "\n",
    "def id2label(labels):\n",
    "    ret = []\n",
    "    for label in labels:\n",
    "        l = [get_label(x) for x in label]\n",
    "        if len(l) == 1 and l[0] == \"O\":\n",
    "            l = \"O\"\n",
    "        ret.append(l)\n",
    "    return ret \n",
    "\n",
    "def clean_text(sent):\n",
    "    ret_sent= []\n",
    "    for txt in sent:\n",
    "      fil_txt = re.sub('[^A-Za-z0-9]+', '', str(txt))\n",
    "      if len(fil_txt) == 0:\n",
    "        fil_txt  = txt [0]\n",
    "      ret_sent.append(fil_txt)\n",
    "    assert(len(ret_sent) == len(sent))\n",
    "    return ret_sent"
   ]
  },
  {
   "cell_type": "code",
   "execution_count": 6,
   "metadata": {
    "colab": {
     "base_uri": "https://localhost:8080/"
    },
    "id": "4Z3P4caL6jP-",
    "outputId": "bc604607-b446-4afc-bf72-4bd58e2142a9"
   },
   "outputs": [
    {
     "name": "stdout",
     "output_type": "stream",
     "text": [
      "227 42540 9956\n"
     ]
    }
   ],
   "source": [
    "NUM_STATES = 2*NUM_TAGS+1\n",
    "NUM_FEATURES = 0\n",
    "NUM_INST = 0\n",
    "\n",
    "# load train data\n",
    "with open('data/dev.json') as f:\n",
    "    data = json.load(f)\n",
    "\n",
    "a = [d[\"sent\"] for d in data]\n",
    "set_ = set()\n",
    "for idx,s in enumerate(a):\n",
    "    for t in s:\n",
    "        if len(t)<1:\n",
    "            set_.add(idx)\n",
    "data = [data[i] for i in range(len(data)) if i not in set_]\n",
    "\n",
    "unique_word_set = set()\n",
    "for x in data:\n",
    "  for w in x[\"sent\"]:\n",
    "    unique_word_set.add(w)\n",
    "words_to_id = {}\n",
    "for idx, w in enumerate(unique_word_set):\n",
    "  words_to_id[w] = idx\n",
    "\n",
    "NUM_FEATURES = len(unique_word_set)\n",
    "NUM_INST = len(data)\n",
    "\n",
    "print(NUM_STATES, NUM_FEATURES, NUM_INST)"
   ]
  },
  {
   "cell_type": "code",
   "execution_count": 7,
   "metadata": {
    "id": "lh4l9qq8_vu_"
   },
   "outputs": [],
   "source": [
    "def to_bool_vec(y_id):\n",
    "    y_bool = np.zeros(2*NUM_TAGS+1, bool)\n",
    "    num_labels = len(y_id)\n",
    "    for id in y_id:\n",
    "          y_bool[int(id)] = 1\n",
    "    return y_bool"
   ]
  },
  {
   "cell_type": "code",
   "execution_count": 8,
   "metadata": {
    "colab": {
     "base_uri": "https://localhost:8080/"
    },
    "id": "EsTAjrCP7pWl",
    "outputId": "843876a4-fdb3-4da0-fc90-23f114b08ca0"
   },
   "outputs": [
    {
     "name": "stderr",
     "output_type": "stream",
     "text": [
      "9960it [00:07, 1350.21it/s]                                                     "
     ]
    },
    {
     "name": "stdout",
     "output_type": "stream",
     "text": [
      "9960\n"
     ]
    },
    {
     "name": "stderr",
     "output_type": "stream",
     "text": [
      "\n"
     ]
    }
   ],
   "source": [
    "import numpy as np\n",
    "\n",
    "class SentenceScanner(object):\n",
    "    def __init__(self, num_states, num_features, max_len, batch_size):\n",
    "        self._num_states = num_states\n",
    "        self._num_features = num_features\n",
    "        self._max_len = max_len\n",
    "        self._batch_size = batch_size\n",
    "        self._labeled_states = np.zeros((self._batch_size, self._max_len, self._num_states), dtype=np.int8)\n",
    "        self._labeled_emits = np.zeros((self._batch_size, self._max_len, self._num_features), dtype=np.int8)\n",
    "        # Also prepare a suffix mask to know where each sequence ended, a (B, T) tensor.\n",
    "        # This will let us ignore padded positions in the loss expression.\n",
    "        self._labeled_masks = np.zeros((self._batch_size, self._max_len), dtype=np.int8)\n",
    "        \n",
    "    def __iter__(self):\n",
    "        return self\n",
    "\n",
    "    def get_batch(self):\n",
    "        # Collect instances into ndarrays declared above.\n",
    "        num_sentence = 0\n",
    "        for data_point in data:\n",
    "            num_token = 0\n",
    "            labels = label2id(data_point[\"tags\"])\n",
    "            for idx, token in enumerate(data_point[\"sent\"]):\n",
    "                xid = words_to_id[token]\n",
    "                yid = to_bool_vec(labels[idx])\n",
    "                self._labeled_masks[num_sentence, num_token] = 1\n",
    "                self._labeled_emits[num_sentence, num_token, xid] = 1\n",
    "                for x in yid:\n",
    "                  if x:\n",
    "                    self._labeled_states[num_sentence, num_token, x] = 1\n",
    "                num_token += 1\n",
    "                if num_token >= self._max_len:\n",
    "                    break\n",
    "            num_sentence += 1\n",
    "            if num_sentence >= self._batch_size:\n",
    "                yield (self._labeled_masks, self._labeled_emits, self._labeled_states)\n",
    "                self._labeled_masks.fill(0)\n",
    "                self._labeled_emits.fill(0)\n",
    "                self._labeled_states.fill(0)\n",
    "                num_sentence = 0\n",
    "        if num_sentence > 0:\n",
    "            yield (self._labeled_masks, self._labeled_emits, self._labeled_states)\n",
    "\n",
    "\n",
    "# Clip at max sequence length T (starting with STATE_INIT).\n",
    "MAX_LEN = 105\n",
    "# M states, N instances (sentences), F features.\n",
    "# Convert training instances into [N, T, M] states tensor and [N, T, F] emission tensor.\n",
    "# We will generally not be able to hold all this in RAM, so we use batches.\n",
    "BATCH_SIZE = 5\n",
    "\n",
    "# TODO  Add code to shuffle sentences randomly and sample into train, dev, test folds.\n",
    "\n",
    "num_sentences = 0\n",
    "with tqdm(total=NUM_INST) as pbar:\n",
    "    ss = SentenceScanner(NUM_STATES, NUM_FEATURES, MAX_LEN, BATCH_SIZE)\n",
    "    for (_masks, _emits, _states) in ss.get_batch():\n",
    "        num_sentences += _masks.shape[0]\n",
    "        pbar.update(BATCH_SIZE)\n",
    "print(num_sentences)"
   ]
  },
  {
   "cell_type": "code",
   "execution_count": 13,
   "metadata": {
    "id": "JfY4id3Q-ckf"
   },
   "outputs": [],
   "source": [
    "class ChainCRF(object):\n",
    "    \"\"\"Implements linear chain CRF.\"\"\"\n",
    "    def __init__(self, state_init, num_states, num_features, max_len, batch_size):\n",
    "        self._num_states = num_states\n",
    "        self._num_features = num_features\n",
    "        self._max_len = max_len\n",
    "        self._batch_size = batch_size\n",
    "        # Trainable transition weights.  Rows = current state, columns = previous state.\n",
    "        self._edgew = tf.Variable(tf.random.uniform([self._num_states, self._num_states], \n",
    "                                                     dtype=tf.float64, minval=-1., maxval=1.),\n",
    "                                   trainable=True, name=\"edgew\")   #  (M, P)\n",
    "        # Trainable emission weights.  For starters we will use only lexicalized features.\n",
    "        self._nodew = tf.Variable(tf.random.uniform([self._num_states, self._num_features],\n",
    "                                                     dtype=tf.float64, minval=-1., maxval=1.),\n",
    "                                   trainable=True, name=\"nodew\")   #  (M, F)\n",
    "        # Labeled instances.\n",
    "        with tf.GradientTape(persistent=True) as tp:\n",
    "\n",
    "            # Features may not be 1-hot in general. 1-hot state rep may be wasteful.\n",
    "            self._masks = tf.compat.v1.placeholder(tf.float64, shape=(self._batch_size, self._max_len),\n",
    "                                         name=\"masks\")   #  (B, T)\n",
    "            self._emits = tf.compat.v1.placeholder(tf.float64, shape=(self._batch_size, self._max_len,\n",
    "                                                            self._num_features), name=\"emits\")  # (B, T, F)\n",
    "            self._states = tf.compat.v1.placeholder(tf.float64, shape=(self._batch_size, self._max_len,\n",
    "                                                             self._num_states), name=\"states\")  # (B, T, M)\n",
    "            self._pad_states_np = np.zeros((self._batch_size, 1, self._num_states))\n",
    "            self._pad_states_np[:,:, state_init] = 1\n",
    "            pad_states = tf.constant(self._pad_states_np, dtype=tf.float64)\n",
    "            self._prev_states = tf.concat([pad_states, self._states[:,:-1,:] ],\n",
    "                                          axis=1, name=\"prev_states\") # (B, T, P)\n",
    "            # P = M but we use a distinct symbol to highlight the distinction between previous and current states.\n",
    "            print(self._nodew)\n",
    "            print(self._edgew)\n",
    "            print(self._masks)\n",
    "            print(self._emits)\n",
    "            print(self._states)\n",
    "            print(self._prev_states)\n",
    "\n",
    "        # To look up w \\cdot \\varphi(x_t, m, p) for all instances in the batch, we need\n",
    "        # corresponding tensor wvarphi_t with shape (B, T, M, P).\n",
    "        # We want wvarphi_t[b, t, p, m] =  ( sum_f nodew[m, f] emits[b, t, f] ) + edgew[p, m]\n",
    "        # for all possible combinations of m, p in [M] \\times [P], not just the gold sequence.\n",
    "        # The first term results in shape (B, T, M) and the second term results in shape (M, P).\n",
    "        # These have to be expanded to shape (B, T, M, P).\n",
    "\n",
    "            var1 = tf.einsum(\"btf,mf->btm\", self._emits, self._nodew, name=\"var1\")  # .... (B, T, M)\n",
    "            print(var1)\n",
    "            var2 = tf.expand_dims(var1, axis=3, name=\"var2\")    #  .... (B, T, M, 1)\n",
    "            print(var2)\n",
    "            var3 = tf.tile(var2, [1, 1, 1, self._num_states], name=\"var3\")   # .... (B, T, M, P)\n",
    "            print(var3)\n",
    "\n",
    "            # edge_weights is (M, P)\n",
    "            var4 = tf.expand_dims(self._edgew, axis=0, name=\"var4\")   #  (1, M, P)\n",
    "            print(var4)\n",
    "            var5 = tf.tile(var4, [self._max_len, 1, 1], name=\"var5\")   #  (T, M, P)\n",
    "            print(var5)\n",
    "            var6 = tf.expand_dims(var5, axis=0, name=\"var6\")   #  (1, T, M, P)\n",
    "            print(var6)\n",
    "            var7 = tf.tile(var6, [self._batch_size, 1, 1, 1], name=\"var7\")   # ... (B, T, M, P)\n",
    "            print(var7)\n",
    "\n",
    "            self._wvarphi_t = tf.add(var3, var7, name=\"wvarphi_t\")    # .... (B, T, M, P)\n",
    "            print(self._wvarphi_t)\n",
    "            adamopt = tf.optimizers.Adam(learning_rate=0.1)\n",
    "\n",
    "\n",
    "            # For given emissions and state labels, find score w \\cdot \\phi(x, y).\n",
    "            self._scores_t = tf.einsum(\"btmp,btp,btm->bt\", self._wvarphi_t,\n",
    "                                       self._prev_states, self._states, name=\"scores_t\")  #  (B,T)\n",
    "            print(self._scores_t)\n",
    "            self._scores = tf.reduce_sum(tf.multiply(self._scores_t, self._masks),\n",
    "                                         axis=1, name=\"scores\")    #  ... (B)\n",
    "            print(self._scores)\n",
    "\n",
    "            # Alpha recurrence over time steps.\n",
    "            self._lalpha = tf.Variable(initial_value=np.zeros((self._batch_size, self._num_states)),\n",
    "                                      trainable=True, name=\"lalpha_0\")   # .... (B, M)\n",
    "            print(self._lalpha)\n",
    "            for t in range(self._max_len):\n",
    "                var8 = tf.tile(tf.expand_dims(self._lalpha, axis=1), [1, self._num_states, 1])  #  (B, M, P)\n",
    "                next_lalpha = tf.reduce_logsumexp(var8 + self._wvarphi_t[:,t,:,:],  # (B, M, P)\n",
    "                                                  axis=2, name=\"lalpha_\"+str(t+1))\n",
    "                mask_t = tf.tile(tf.expand_dims(self._masks[:,t], axis=1), [1, self._num_states])\n",
    "                self._lalpha = tf.multiply(mask_t, next_lalpha) + tf.multiply(1.-mask_t, self._lalpha)\n",
    "            print(self._lalpha)\n",
    "            self._logz = tf.reduce_logsumexp(self._lalpha, axis=1, name=\"logz\")   # ... (B)\n",
    "            print(self._logz)\n",
    "            self._loss = tf.reduce_sum(self._logz - self._scores, name=\"loss\")    # ... (B)\n",
    "            print(self._loss)\n",
    "            \n",
    "        grad = tp.gradient(self._loss,  [self._nodew, self._edgew])\n",
    "        print(\"Hi-----------\", grad)\n",
    "        self._train_op = adamopt.apply_gradients(zip(grad,[self._nodew, self._edgew]))\n",
    "  \n",
    "#         self._train_op = adamopt.minimize(self._loss, var_list=[self._nodew, self._edgew])\n",
    "\n",
    "        \n",
    "    def check_np_scores(self, sess, masks, emitss, statess):\n",
    "        \"\"\"\n",
    "        masks, emitss, statess are for a whole batch.\n",
    "        Calculates w \\cdot \\phi conventionally using numpy to check correctness.\n",
    "        \"\"\"\n",
    "        _nodew = sess.run(self._nodew)\n",
    "        _edgew = sess.run(self._edgew)\n",
    "        ans = np.zeros((self._batch_size))\n",
    "        for b in range(self._batch_size):\n",
    "            mask = masks[b,:]\n",
    "            emits = emitss[b,:,:]\n",
    "            states = statess[b,:,:]\n",
    "            prev_states = np.concatenate((self._pad_states_np[b,:,:], states[:-1,:]), axis=0)\n",
    "            potscore = 0\n",
    "            for t in range(self._max_len):\n",
    "                aemit = emits[t,:]\n",
    "                aprev_state = prev_states[t,:]\n",
    "                astate = statess[b,t,:]\n",
    "                nodepot = np.matmul(astate, np.matmul(_nodew, aemit))\n",
    "                edgepot = np.matmul(astate, np.matmul(_edgew, aprev_state))\n",
    "                potscore += (nodepot + edgepot)\n",
    "            ans[b] = potscore\n",
    "        return ans\n",
    "    \n",
    "    def check_tf_scores(self, sess, masks, emitss, statess):\n",
    "        tf_scores = sess.run(self._scores, feed_dict = {\n",
    "            self._masks: masks, self._emits: emitss, self._states: statess })\n",
    "        return tf_scores\n",
    "\n",
    "    def check_np_logzs(self, sess, masks, emitss, statess):\n",
    "        \"\"\"\n",
    "        Calculates log Z conventionally using numpy to check correctness.\n",
    "        \"\"\"\n",
    "        np_wvarphi_t = sess.run(self._wvarphi_t, feed_dict={\n",
    "            self._masks: masks, self._emits: emitss, self._states: statess})\n",
    "        #print(\"np_wvarphi_t\", np_wvarphi_t.shape)   # (B, T, M, P)\n",
    "        logzs = np.zeros((self._batch_size))\n",
    "        for b in range(self._batch_size):\n",
    "            np_lalpha = np.zeros((self._num_states))  # (P) or (M)\n",
    "            for t in range(self._max_len):\n",
    "                np_lalpha_next = np.zeros((self._num_states))  # (M)\n",
    "                for m in range(self._num_states):\n",
    "                    softsummand = np.zeros((self._num_states))  # (P)\n",
    "                    for p in range(self._num_states):\n",
    "                        softsummand[p] = np_wvarphi_t[b,t,m,p] + np_lalpha[p]\n",
    "                    np_lalpha_next[m] = logsumexp(softsummand)\n",
    "                np_lalpha = np_lalpha_next\n",
    "            logzs[b] = logsumexp(np_lalpha)\n",
    "        return logzs\n",
    "\n",
    "    def check_tf_logzs(self, sess, masks, emitss, statess):\n",
    "        tf_logzs = sess.run(self._logz, feed_dict={\n",
    "            self._masks: masks, self._emits: emitss, self._states: statess})\n",
    "        return tf_logzs\n",
    "\n",
    "    def do_train(self, sess, num_epochs=10):\n",
    "        sess.run(tf.compat.v1.global_variables_initializer())\n",
    "        # TODO Add code to load any partially trained model for warm-start.\n",
    "        chart_batches, chart_losses = list(), list()\n",
    "        fig = plt.figure()\n",
    "        ax = fig.add_subplot(111)\n",
    "        #plt.ion()\n",
    "        fig.show()\n",
    "        fig.canvas.draw()\n",
    "        num_batches = 0\n",
    "        # TODO keep history of loss objectives\n",
    "        for _ in range(num_epochs):\n",
    "            with tqdm(total=num_sentences) as pbar:\n",
    "                ss = SentenceScanner(self._num_states, self._num_features, self._max_len, self._batch_size)\n",
    "                for (masks, emits, states) in ss.get_batch():\n",
    "                    num_batches += 1\n",
    "                    sess.run(self._train_op, feed_dict = { \n",
    "                        self._masks: masks, self._emits: emits, self._states: states })\n",
    "                    _logZ = sess.run(self._logz, feed_dict = { \n",
    "                        self._masks: masks, self._emits: emits, self._states: states })\n",
    "                    _scores = sess.run(self._scores, feed_dict = { \n",
    "                        self._masks: masks, self._emits: emits, self._states: states })\n",
    "                    _loss = np.sum(_logZ - _scores)\n",
    "                    assert _loss >= 0\n",
    "\n",
    "                    chart_batches.append(num_batches)\n",
    "                    chart_losses.append(_loss)\n",
    "                    ax.clear()\n",
    "                    ax.plot(chart_batches, chart_losses)\n",
    "                    fig.canvas.draw()\n",
    "                    pbar.update(self._batch_size)\n",
    "                    pbar.set_description(\"%10g\" % _loss)\n",
    "                    \n",
    "                    if np.min(_logZ - _scores) < 0:\n",
    "                        print(\"tf_logzs - tf_scores\", _logZ - _scores)\n",
    "                        np_scores = self.check_np_scores(sess, masks, emits, states)\n",
    "                        tf_scores = self.check_tf_scores(sess, masks, emits, states)\n",
    "                        print(\"np_scores - tf_scores\", np.linalg.norm(np_scores - tf_scores, ord=np.inf))\n",
    "                        np_logzs = ccrf.check_np_logzs(sess, masks, emits, states)\n",
    "                        tf_logzs = ccrf.check_tf_logzs(sess, masks, emits, states)\n",
    "                        print(\"np_logzs - tf_logzs\", np.linalg.norm(np_logzs - tf_logzs, ord=np.inf))\n",
    "                        return\n",
    "            # TODO Add code to decide on ending training, saving model checkpoints.\n",
    "            \n",
    "    def get_fold_performance():\n",
    "        \"\"\"TODO Add code to calculate best labels sequences for current model, compare with gold\n",
    "        sequences, and return a measure of performance.\"\"\"\n",
    "        pass"
   ]
  },
  {
   "cell_type": "code",
   "execution_count": 14,
   "metadata": {
    "id": "NB4cHUYpFgK5"
   },
   "outputs": [],
   "source": [
    "tf.compat.v1.disable_eager_execution()"
   ]
  },
  {
   "cell_type": "code",
   "execution_count": 65,
   "metadata": {},
   "outputs": [],
   "source": [
    "# import tensorflow.compat.v1 as tf\n",
    "# tf.disable_v2_behavior()\n"
   ]
  },
  {
   "cell_type": "code",
   "execution_count": 15,
   "metadata": {
    "colab": {
     "base_uri": "https://localhost:8080/",
     "height": 727
    },
    "id": "0CRF-JUSDX5Z",
    "outputId": "0f9e28a3-0875-4831-c12f-ad09b6e78c0d"
   },
   "outputs": [
    {
     "name": "stdout",
     "output_type": "stream",
     "text": [
      "<tf.Variable 'nodew_2:0' shape=(227, 42540) dtype=float64>\n",
      "<tf.Variable 'edgew_2:0' shape=(227, 227) dtype=float64>\n",
      "Tensor(\"masks_2:0\", shape=(5, 105), dtype=float64)\n",
      "Tensor(\"emits_2:0\", shape=(5, 105, 42540), dtype=float64)\n",
      "Tensor(\"states_2:0\", shape=(5, 105, 227), dtype=float64)\n",
      "Tensor(\"prev_states_2:0\", shape=(5, 105, 227), dtype=float64)\n",
      "Tensor(\"var1_2/Einsum:0\", shape=(5, 105, 227), dtype=float64)\n",
      "Tensor(\"var2_2:0\", shape=(5, 105, 227, 1), dtype=float64)\n",
      "Tensor(\"var3_2:0\", shape=(5, 105, 227, 227), dtype=float64)\n",
      "Tensor(\"var4_2:0\", shape=(1, 227, 227), dtype=float64)\n",
      "Tensor(\"var5_2:0\", shape=(105, 227, 227), dtype=float64)\n",
      "Tensor(\"var6_2:0\", shape=(1, 105, 227, 227), dtype=float64)\n",
      "Tensor(\"var7_2:0\", shape=(5, 105, 227, 227), dtype=float64)\n",
      "Tensor(\"wvarphi_t_2:0\", shape=(5, 105, 227, 227), dtype=float64)\n",
      "Tensor(\"scores_t_2/Einsum_1:0\", shape=(5, 105), dtype=float64)\n",
      "Tensor(\"scores_2:0\", shape=(5,), dtype=float64)\n",
      "<tf.Variable 'lalpha_0_2:0' shape=(5, 227) dtype=float64>\n",
      "Tensor(\"add_629:0\", shape=(5, 227), dtype=float64)\n",
      "Tensor(\"logz_2:0\", shape=(5,), dtype=float64)\n",
      "Tensor(\"loss_2:0\", shape=(), dtype=float64)\n",
      "Hi----------- [<tf.Tensor 'gradient_tape/var1_2/Einsum_1:0' shape=(227, 42540) dtype=float64>, <tf.Tensor 'gradient_tape/Reshape_977:0' shape=(227, 227) dtype=float64>]\n"
     ]
    },
    {
     "name": "stderr",
     "output_type": "stream",
     "text": [
      "2023-03-15 15:15:23.300880: I tensorflow/core/common_runtime/gpu/gpu_device.cc:1613] Created device /job:localhost/replica:0/task:0/device:GPU:0 with 2640 MB memory:  -> device: 0, name: NVIDIA A100-SXM4-80GB, pci bus id: 0000:87:00.0, compute capability: 8.0\n",
      "2023-03-15 15:15:23.303115: I tensorflow/core/common_runtime/gpu/gpu_device.cc:1613] Created device /job:localhost/replica:0/task:0/device:GPU:1 with 47596 MB memory:  -> device: 1, name: NVIDIA A100-SXM4-80GB, pci bus id: 0000:90:00.0, compute capability: 8.0\n",
      "2023-03-15 15:15:23.305561: I tensorflow/core/common_runtime/gpu/gpu_device.cc:1613] Created device /job:localhost/replica:0/task:0/device:GPU:2 with 159 MB memory:  -> device: 2, name: NVIDIA A100-SXM4-80GB, pci bus id: 0000:b7:00.0, compute capability: 8.0\n",
      "2023-03-15 15:15:23.308325: I tensorflow/core/common_runtime/gpu/gpu_device.cc:1613] Created device /job:localhost/replica:0/task:0/device:GPU:3 with 47740 MB memory:  -> device: 3, name: NVIDIA A100-SXM4-80GB, pci bus id: 0000:bd:00.0, compute capability: 8.0\n",
      "2023-03-15 15:15:24.134238: W tensorflow/c/c_api.cc:291] Operation '{name:'Adam_2/v/edgew_2/Assign' id:21479 op device:{requested: '', assigned: ''} def:{{{node Adam_2/v/edgew_2/Assign}} = AssignVariableOp[_has_manual_control_dependencies=true, dtype=DT_DOUBLE, validate_shape=false](Adam_2/v/edgew_2, Adam_2/zeros_3)}}' was changed by setting attribute after it was run by a session. This mutation will have no effect, and will trigger an error in the future. Either don't modify nodes after running them or create a new session.\n",
      "   18754.4:   0%|                             | 10/9960 [00:02<30:37,  5.42it/s]"
     ]
    },
    {
     "name": "stdout",
     "output_type": "stream",
     "text": [
      "tf_logzs - tf_scores [-4798.63540469 14305.32800279  2287.09273289  5820.69823679\n",
      "  1139.90930275]\n",
      "np_scores - tf_scores 12249.141766391003\n"
     ]
    },
    {
     "name": "stderr",
     "output_type": "stream",
     "text": [
      "   18754.4:   0%|                           | 10/9960 [00:15<4:20:23,  1.57s/it]"
     ]
    },
    {
     "name": "stdout",
     "output_type": "stream",
     "text": [
      "np_logzs - tf_logzs 502.19377089196666\n"
     ]
    },
    {
     "name": "stderr",
     "output_type": "stream",
     "text": [
      "\n"
     ]
    },
    {
     "data": {
      "image/png": "[encoded data removed]",
      "text/plain": [
       "<Figure size 432x288 with 1 Axes>"
      ]
     },
     "metadata": {
      "needs_background": "light"
     },
     "output_type": "display_data"
    }
   ],
   "source": [
    "STATE_INIT = NUM_STATES-1\n",
    "ccrf = ChainCRF(STATE_INIT, NUM_STATES, NUM_FEATURES, MAX_LEN, BATCH_SIZE)\n",
    "with tf.compat.v1.Session() as sess:\n",
    "    sess.run(tf.compat.v1.global_variables_initializer())\n",
    "    ccrf.do_train(sess)"
   ]
  },
  {
   "cell_type": "code",
   "execution_count": null,
   "metadata": {
    "id": "HqvCSEaPEMo-"
   },
   "outputs": [],
   "source": []
  }
 ],
 "metadata": {
  "colab": {
   "provenance": []
  },
  "kernelspec": {
   "display_name": "Python 3 (ipykernel)",
   "language": "python",
   "name": "python3"
  },
  "language_info": {
   "codemirror_mode": {
    "name": "ipython",
    "version": 3
   },
   "file_extension": ".py",
   "mimetype": "text/x-python",
   "name": "python",
   "nbconvert_exporter": "python",
   "pygments_lexer": "ipython3",
   "version": "3.8.13"
  }
 },
 "nbformat": 4,
 "nbformat_minor": 4
}
