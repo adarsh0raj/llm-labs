{
  "cells": [
    {
      "cell_type": "code",
      "execution_count": null,
      "metadata": {
        "id": "OGkwOKpU5ovd"
      },
      "outputs": [],
      "source": [
        "import os\n",
        "import numpy as np\n",
        "from scipy.special import logsumexp\n",
        "import pandas as pd\n",
        "import tensorflow as tf\n",
        "from tqdm import tqdm\n",
        "import pickle\n",
        "import json\n",
        "import regex as re\n",
        "\n",
        "import matplotlib.pyplot as plt\n",
        "plt.style.use(\"ggplot\")\n",
        "\n",
        "print(tf.__version__)"
      ]
    },
    {
      "cell_type": "code",
      "source": [
        "from google.colab import drive\n",
        "drive.mount('/content/drive')"
      ],
      "metadata": {
        "id": "tFdBwcRA_nP8"
      },
      "execution_count": null,
      "outputs": []
    },
    {
      "cell_type": "code",
      "execution_count": 21,
      "metadata": {
        "id": "Y6vDaclU571Z"
      },
      "outputs": [],
      "source": [
        "TAGS =  pickle.load(open( \"tags.pickle\", \"rb\" ))\n",
        "TAGS.remove(\"O\") \n",
        "NUM_TAGS = len(TAGS)"
      ]
    },
    {
      "cell_type": "code",
      "execution_count": 22,
      "metadata": {
        "id": "3sHEy-hz6RtS"
      },
      "outputs": [],
      "source": [
        "tag2id = {}\n",
        "for id,label in enumerate(TAGS):\n",
        "    tag2id[label] = id \n",
        "\n",
        "def label2id(labels):\n",
        "    ret = []\n",
        "    prev_label = \"\"\n",
        "    for label in labels:\n",
        "        if label == \"O\":\n",
        "            ret.append(str(2*NUM_TAGS))\n",
        "        elif label == prev_label:\n",
        "            l = [tag2id[t]+ NUM_TAGS for t in label]\n",
        "            for x in l:\n",
        "                ret.append(str(x))\n",
        "        else:\n",
        "            l =[tag2id[t] for t in label]\n",
        "            for x in l:\n",
        "                ret.append(str(x))\n",
        "        prev_label = label\n",
        "    return ret "
      ]
    },
    {
      "cell_type": "code",
      "execution_count": 24,
      "metadata": {
        "id": "YDGQj_ar6gEV"
      },
      "outputs": [],
      "source": [
        "def get_label(label_id):\n",
        "    if label_id == (2*NUM_TAGS):\n",
        "        return \"O\"\n",
        "    elif label_id >= NUM_TAGS:\n",
        "        return [TAGS[label_id-NUM_TAGS]]\n",
        "    else:\n",
        "        return TAGS[label_id]\n",
        "\n",
        "def id2label(labels):\n",
        "    ret = []\n",
        "    for label in labels:\n",
        "        l = [get_label(x) for x in label]\n",
        "        if len(l) == 1 and l[0] == \"O\":\n",
        "            l = \"O\"\n",
        "        ret.append(l)\n",
        "    return ret \n",
        "\n",
        "def clean_text(sent):\n",
        "    ret_sent= []\n",
        "    for txt in sent:\n",
        "      fil_txt = re.sub('[^A-Za-z0-9]+', '', str(txt))\n",
        "      if len(fil_txt) == 0:\n",
        "        fil_txt  = txt [0]\n",
        "      ret_sent.append(fil_txt)\n",
        "    assert(len(ret_sent) == len(sent))\n",
        "    return ret_sent"
      ]
    },
    {
      "cell_type": "code",
      "execution_count": null,
      "metadata": {
        "id": "4Z3P4caL6jP-"
      },
      "outputs": [],
      "source": [
        "NUM_STATES = 2*NUM_TAGS+1\n",
        "NUM_FEATURES = 0\n",
        "NUM_INST = 0\n",
        "\n",
        "# load train data\n",
        "with open('drive/MyDrive/train.json') as f:\n",
        "    data = json.load(f)\n",
        "\n",
        "a = [d[\"sent\"] for d in data]\n",
        "set_ = set()\n",
        "for idx,s in enumerate(a):\n",
        "    for t in s:\n",
        "        if len(t)<1:\n",
        "            set_.add(idx)\n",
        "data = [data[i] for i in range(len(data)) if i not in set_]\n",
        "\n",
        "unique_word_set = set()\n",
        "for x in data:\n",
        "  for w in x[\"sent\"]:\n",
        "    unique_word_set.add(w)\n",
        "words_to_id = {}\n",
        "for idx, w in enumerate(unique_word_set):\n",
        "  words_to_id[w] = idx\n",
        "\n",
        "NUM_FEATURES = len(unique_word_set)\n",
        "NUM_INST = len(data)\n",
        "\n",
        "print(NUM_STATES, NUM_FEATURES, NUM_INST)"
      ]
    },
    {
      "cell_type": "code",
      "execution_count": 26,
      "metadata": {
        "id": "lh4l9qq8_vu_"
      },
      "outputs": [],
      "source": [
        "def to_bool_vec(y_id):\n",
        "    y_bool = np.zeros(2*NUM_TAGS+1, bool)\n",
        "    num_labels = len(y_id)\n",
        "    for id in y_id:\n",
        "          y_bool[int(id)] = 1\n",
        "    return y_bool"
      ]
    },
    {
      "cell_type": "code",
      "execution_count": null,
      "metadata": {
        "id": "EsTAjrCP7pWl"
      },
      "outputs": [],
      "source": [
        "import numpy as np\n",
        "\n",
        "class SentenceScanner(object):\n",
        "    def __init__(self, num_states, num_features, max_len, batch_size):\n",
        "        self._num_states = num_states\n",
        "        self._num_features = num_features\n",
        "        self._max_len = max_len\n",
        "        self._batch_size = batch_size\n",
        "        self._labeled_states = np.zeros((self._batch_size, self._max_len, self._num_states), dtype=np.int8)\n",
        "        self._labeled_emits = np.zeros((self._batch_size, self._max_len, self._num_features), dtype=np.int8)\n",
        "        # Also prepare a suffix mask to know where each sequence ended, a (B, T) tensor.\n",
        "        # This will let us ignore padded positions in the loss expression.\n",
        "        self._labeled_masks = np.zeros((self._batch_size, self._max_len), dtype=np.int8)\n",
        "        \n",
        "    def __iter__(self):\n",
        "        return self\n",
        "\n",
        "    def get_batch(self):\n",
        "        # Collect instances into ndarrays declared above.\n",
        "        num_sentence = 0\n",
        "        for data_point in data:\n",
        "            num_token = 0\n",
        "            labels = label2id(data_point[\"tags\"])\n",
        "            for idx, token in enumerate(data_point[\"sent\"]):\n",
        "                xid = words_to_id[token]\n",
        "                yid = to_bool_vec(labels[idx])\n",
        "                self._labeled_masks[num_sentence, num_token] = 1\n",
        "                self._labeled_emits[num_sentence, num_token, xid] = 1\n",
        "                for x in yid:\n",
        "                  if x:\n",
        "                    self._labeled_states[num_sentence, num_token, x] = 1\n",
        "                num_token += 1\n",
        "                if num_token >= self._max_len:\n",
        "                    break\n",
        "            num_sentence += 1\n",
        "            if num_sentence >= self._batch_size:\n",
        "                yield (self._labeled_masks, self._labeled_emits, self._labeled_states)\n",
        "                self._labeled_masks.fill(0)\n",
        "                self._labeled_emits.fill(0)\n",
        "                self._labeled_states.fill(0)\n",
        "                num_sentence = 0\n",
        "        if num_sentence > 0:\n",
        "            yield (self._labeled_masks, self._labeled_emits, self._labeled_states)\n",
        "\n",
        "\n",
        "# Clip at max sequence length T (starting with STATE_INIT).\n",
        "MAX_LEN = 105\n",
        "# M states, N instances (sentences), F features.\n",
        "# Convert training instances into [N, T, M] states tensor and [N, T, F] emission tensor.\n",
        "# We will generally not be able to hold all this in RAM, so we use batches.\n",
        "BATCH_SIZE = 51\n",
        "\n",
        "# TODO  Add code to shuffle sentences randomly and sample into train, dev, test folds.\n",
        "\n",
        "num_sentences = 0\n",
        "with tqdm(total=NUM_INST) as pbar:\n",
        "    ss = SentenceScanner(NUM_STATES, NUM_FEATURES, MAX_LEN, BATCH_SIZE)\n",
        "    for (_masks, _emits, _states) in ss.get_batch():\n",
        "        num_sentences += _masks.shape[0]\n",
        "        pbar.update(BATCH_SIZE)\n",
        "print(num_sentences)"
      ]
    },
    {
      "cell_type": "code",
      "execution_count": 28,
      "metadata": {
        "id": "JfY4id3Q-ckf"
      },
      "outputs": [],
      "source": [
        "class ChainCRF(object):\n",
        "    \"\"\"Implements linear chain CRF.\"\"\"\n",
        "    def __init__(self, state_init, num_states, num_features, max_len, batch_size):\n",
        "        self._num_states = num_states\n",
        "        self._num_features = num_features\n",
        "        self._max_len = max_len\n",
        "        self._batch_size = batch_size\n",
        "        # Trainable transition weights.  Rows = current state, columns = previous state.\n",
        "        self._edgew = tf.Variable(tf.random.uniform([self._num_states, self._num_states], \n",
        "                                                     dtype=tf.float64, minval=-1., maxval=1.),\n",
        "                                   trainable=True, name=\"edgew\")   #  (M, P)\n",
        "        # Trainable emission weights.  For starters we will use only lexicalized features.\n",
        "        self._nodew = tf.Variable(tf.random.uniform([self._num_states, self._num_features],\n",
        "                                                     dtype=tf.float64, minval=-1., maxval=1.),\n",
        "                                   trainable=True, name=\"nodew\")   #  (M, F)\n",
        "        # Labeled instances.\n",
        "        with tf.GradientTape(persistent=True) as tp:\n",
        "\n",
        "            # Features may not be 1-hot in general. 1-hot state rep may be wasteful.\n",
        "            self._masks = tf.compat.v1.placeholder(tf.float64, shape=(self._batch_size, self._max_len),\n",
        "                                         name=\"masks\")   #  (B, T)\n",
        "            self._emits = tf.compat.v1.placeholder(tf.float64, shape=(self._batch_size, self._max_len,\n",
        "                                                            self._num_features), name=\"emits\")  # (B, T, F)\n",
        "            self._states = tf.compat.v1.placeholder(tf.float64, shape=(self._batch_size, self._max_len,\n",
        "                                                             self._num_states), name=\"states\")  # (B, T, M)\n",
        "            self._pad_states_np = np.zeros((self._batch_size, 1, self._num_states))\n",
        "            self._pad_states_np[:,:, state_init] = 1\n",
        "            pad_states = tf.constant(self._pad_states_np, dtype=tf.float64)\n",
        "            self._prev_states = tf.concat([pad_states, self._states[:,:-1,:] ],\n",
        "                                          axis=1, name=\"prev_states\") # (B, T, P)\n",
        "            # P = M but we use a distinct symbol to highlight the distinction between previous and current states.\n",
        "            print(self._nodew)\n",
        "            print(self._edgew)\n",
        "            print(self._masks)\n",
        "            print(self._emits)\n",
        "            print(self._states)\n",
        "            print(self._prev_states)\n",
        "\n",
        "            # To look up w \\cdot \\varphi(x_t, m, p) for all instances in the batch, we need\n",
        "            # corresponding tensor wvarphi_t with shape (B, T, M, P).\n",
        "            # We want wvarphi_t[b, t, p, m] =  ( sum_f nodew[m, f] emits[b, t, f] ) + edgew[p, m]\n",
        "            # for all possible combinations of m, p in [M] \\times [P], not just the gold sequence.\n",
        "            # The first term results in shape (B, T, M) and the second term results in shape (M, P).\n",
        "            # These have to be expanded to shape (B, T, M, P).\n",
        "\n",
        "            var1 = tf.einsum(\"btf,mf->btm\", self._emits, self._nodew, name=\"var1\")  # .... (B, T, M)\n",
        "            print(var1)\n",
        "            var2 = tf.expand_dims(var1, axis=3, name=\"var2\")    #  .... (B, T, M, 1)\n",
        "            print(var2)\n",
        "            var3 = tf.tile(var2, [1, 1, 1, self._num_states], name=\"var3\")   # .... (B, T, M, P)\n",
        "            print(var3)\n",
        "\n",
        "            # edge_weights is (M, P)\n",
        "            var4 = tf.expand_dims(self._edgew, axis=0, name=\"var4\")   #  (1, M, P)\n",
        "            print(var4)\n",
        "            var5 = tf.tile(var4, [self._max_len, 1, 1], name=\"var5\")   #  (T, M, P)\n",
        "            print(var5)\n",
        "            var6 = tf.expand_dims(var5, axis=0, name=\"var6\")   #  (1, T, M, P)\n",
        "            print(var6)\n",
        "            var7 = tf.tile(var6, [self._batch_size, 1, 1, 1], name=\"var7\")   # ... (B, T, M, P)\n",
        "            print(var7)\n",
        "\n",
        "            self._wvarphi_t = tf.add(var3, var7, name=\"wvarphi_t\")    # .... (B, T, M, P)\n",
        "            print(self._wvarphi_t)\n",
        "            adamopt = tf.optimizers.Adam(learning_rate=0.1)\n",
        "\n",
        "\n",
        "            # For given emissions and state labels, find score w \\cdot \\phi(x, y).\n",
        "            self._scores_t = tf.einsum(\"btmp,btp,btm->bt\", self._wvarphi_t,\n",
        "                                       self._prev_states, self._states, name=\"scores_t\")  #  (B,T)\n",
        "            print(self._scores_t)\n",
        "            self._scores = tf.reduce_sum(tf.multiply(self._scores_t, self._masks),\n",
        "                                         axis=1, name=\"scores\")    #  ... (B)\n",
        "            print(self._scores)\n",
        "\n",
        "            # Alpha recurrence over time steps.\n",
        "            self._lalpha = tf.Variable(initial_value=np.zeros((self._batch_size, self._num_states)),\n",
        "                                      trainable=True, name=\"lalpha_0\")   # .... (B, M)\n",
        "            print(self._lalpha)\n",
        "            for t in range(self._max_len):\n",
        "                var8 = tf.tile(tf.expand_dims(self._lalpha, axis=1), [1, self._num_states, 1])  #  (B, M, P)\n",
        "                next_lalpha = tf.reduce_logsumexp(var8 + self._wvarphi_t[:,t,:,:],  # (B, M, P)\n",
        "                                                  axis=2, name=\"lalpha_\"+str(t+1))\n",
        "                mask_t = tf.tile(tf.expand_dims(self._masks[:,t], axis=1), [1, self._num_states])\n",
        "                self._lalpha = tf.multiply(mask_t, next_lalpha) + tf.multiply(1.-mask_t, self._lalpha)\n",
        "            print(self._lalpha)\n",
        "            self._logz = tf.reduce_logsumexp(self._lalpha, axis=1, name=\"logz\")   # ... (B)\n",
        "            print(self._logz)\n",
        "            self._loss = tf.reduce_sum(self._logz - self._scores, name=\"loss\")    # ... (B)\n",
        "            print(self._loss)\n",
        "            \n",
        "        grad = tp.gradient(self._loss,  [self._nodew, self._edgew])\n",
        "        self._train_op = adamopt.apply_gradients(zip(grad,[self._nodew, self._edgew]))\n",
        "      \n",
        "    def check_np_scores(self, sess, masks, emitss, statess):\n",
        "        \"\"\"\n",
        "        masks, emitss, statess are for a whole batch.\n",
        "        Calculates w \\cdot \\phi conventionally using numpy to check correctness.\n",
        "        \"\"\"\n",
        "        _nodew = sess.run(self._nodew)\n",
        "        _edgew = sess.run(self._edgew)\n",
        "        ans = np.zeros((self._batch_size))\n",
        "        for b in range(self._batch_size):\n",
        "            mask = masks[b,:]\n",
        "            emits = emitss[b,:,:]\n",
        "            states = statess[b,:,:]\n",
        "            prev_states = np.concatenate((self._pad_states_np[b,:,:], states[:-1,:]), axis=0)\n",
        "            potscore = 0\n",
        "            for t in range(self._max_len):\n",
        "                aemit = emits[t,:]\n",
        "                aprev_state = prev_states[t,:]\n",
        "                astate = statess[b,t,:]\n",
        "                nodepot = np.matmul(astate, np.matmul(_nodew, aemit))\n",
        "                edgepot = np.matmul(astate, np.matmul(_edgew, aprev_state))\n",
        "                potscore += (nodepot + edgepot)\n",
        "            ans[b] = potscore\n",
        "        return ans\n",
        "    \n",
        "    def check_tf_scores(self, sess, masks, emitss, statess):\n",
        "        tf_scores = sess.run(self._scores, feed_dict = {\n",
        "            self._masks: masks, self._emits: emitss, self._states: statess })\n",
        "        return tf_scores\n",
        "\n",
        "    def check_np_logzs(self, sess, masks, emitss, statess):\n",
        "        \"\"\"\n",
        "        Calculates log Z conventionally using numpy to check correctness.\n",
        "        \"\"\"\n",
        "        np_wvarphi_t = sess.run(self._wvarphi_t, feed_dict={\n",
        "            self._masks: masks, self._emits: emitss, self._states: statess})\n",
        "        #print(\"np_wvarphi_t\", np_wvarphi_t.shape)   # (B, T, M, P)\n",
        "        logzs = np.zeros((self._batch_size))\n",
        "        for b in range(self._batch_size):\n",
        "            np_lalpha = np.zeros((self._num_states))  # (P) or (M)\n",
        "            for t in range(self._max_len):\n",
        "                np_lalpha_next = np.zeros((self._num_states))  # (M)\n",
        "                for m in range(self._num_states):\n",
        "                    softsummand = np.zeros((self._num_states))  # (P)\n",
        "                    for p in range(self._num_states):\n",
        "                        softsummand[p] = np_wvarphi_t[b,t,m,p] + np_lalpha[p]\n",
        "                    np_lalpha_next[m] = logsumexp(softsummand)\n",
        "                np_lalpha = np_lalpha_next\n",
        "            logzs[b] = logsumexp(np_lalpha)\n",
        "        return logzs\n",
        "\n",
        "    def check_tf_logzs(self, sess, masks, emitss, statess):\n",
        "        tf_logzs = sess.run(self._logz, feed_dict={\n",
        "            self._masks: masks, self._emits: emitss, self._states: statess})\n",
        "        return tf_logzs\n",
        "\n",
        "    def do_train(self, sess, num_epochs=1):  \n",
        "        sess.run(tf.compat.v1.global_variables_initializer())\n",
        "        chart_batches, chart_losses = list(), list()\n",
        "        fig = plt.figure()\n",
        "        ax = fig.add_subplot(111)\n",
        "        fig.show()\n",
        "        fig.canvas.draw()\n",
        "        num_batches = 0\n",
        "        for _ in range(num_epochs):\n",
        "            with tqdm(total=num_sentences) as pbar:\n",
        "                ss = SentenceScanner(self._num_states, self._num_features, self._max_len, self._batch_size)\n",
        "                for (masks, emits, states) in ss.get_batch():\n",
        "                    num_batches += 1\n",
        "                    sess.run(self._train_op, feed_dict = { \n",
        "                        self._masks: masks, self._emits: emits, self._states: states })\n",
        "                    _logZ = sess.run(self._logz, feed_dict = { \n",
        "                        self._masks: masks, self._emits: emits, self._states: states })\n",
        "                    _scores = sess.run(self._scores, feed_dict = { \n",
        "                        self._masks: masks, self._emits: emits, self._states: states })\n",
        "                    _loss = np.sum(_logZ - _scores)\n",
        "                    # assert _loss >= 0\n",
        "\n",
        "                    chart_batches.append(num_batches)\n",
        "                    chart_losses.append(_loss)\n",
        "                    ax.clear()\n",
        "                    ax.plot(chart_batches, chart_losses)\n",
        "                    fig.canvas.draw()\n",
        "                    pbar.update(self._batch_size)\n",
        "                    pbar.set_description(\"%10g\" % _loss)"
      ]
    },
    {
      "cell_type": "code",
      "execution_count": 29,
      "metadata": {
        "id": "NB4cHUYpFgK5"
      },
      "outputs": [],
      "source": [
        "tf.compat.v1.disable_eager_execution()"
      ]
    },
    {
      "cell_type": "code",
      "execution_count": 30,
      "metadata": {
        "colab": {
          "base_uri": "https://localhost:8080/",
          "height": 629
        },
        "id": "0CRF-JUSDX5Z",
        "outputId": "f37c077f-c6c5-4548-e6df-310c6e17c752"
      },
      "outputs": [
        {
          "output_type": "stream",
          "name": "stdout",
          "text": [
            "<tf.Variable 'nodew_1:0' shape=(227, 18945) dtype=float64>\n",
            "<tf.Variable 'edgew_1:0' shape=(227, 227) dtype=float64>\n",
            "Tensor(\"masks_1:0\", shape=(51, 105), dtype=float64)\n",
            "Tensor(\"emits_1:0\", shape=(51, 105, 18945), dtype=float64)\n",
            "Tensor(\"states_1:0\", shape=(51, 105, 227), dtype=float64)\n",
            "Tensor(\"prev_states_1:0\", shape=(51, 105, 227), dtype=float64)\n",
            "Tensor(\"var1_1/Einsum:0\", shape=(51, 105, 227), dtype=float64)\n",
            "Tensor(\"var2_1:0\", shape=(51, 105, 227, 1), dtype=float64)\n",
            "Tensor(\"var3_1:0\", shape=(51, 105, 227, 227), dtype=float64)\n",
            "Tensor(\"var4_1:0\", shape=(1, 227, 227), dtype=float64)\n",
            "Tensor(\"var5_1:0\", shape=(105, 227, 227), dtype=float64)\n",
            "Tensor(\"var6_1:0\", shape=(1, 105, 227, 227), dtype=float64)\n",
            "Tensor(\"var7_1:0\", shape=(51, 105, 227, 227), dtype=float64)\n",
            "Tensor(\"wvarphi_t_1:0\", shape=(51, 105, 227, 227), dtype=float64)\n",
            "Tensor(\"scores_t_1/Einsum_1:0\", shape=(51, 105), dtype=float64)\n",
            "Tensor(\"scores_1:0\", shape=(51,), dtype=float64)\n",
            "<tf.Variable 'lalpha_0_1:0' shape=(51, 227) dtype=float64>\n",
            "Tensor(\"add_423:0\", shape=(51, 227), dtype=float64)\n",
            "Tensor(\"logz_1:0\", shape=(51,), dtype=float64)\n",
            "Tensor(\"loss_1:0\", shape=(), dtype=float64)\n"
          ]
        },
        {
          "output_type": "stream",
          "name": "stderr",
          "text": [
            "    746919: 100%|██████████| 3060/3060 [09:43<00:00,  5.25it/s]\n"
          ]
        },
        {
          "output_type": "display_data",
          "data": {
            "text/plain": [
              "<Figure size 432x288 with 1 Axes>"
            ],
            "image/png": "[encoded data removed]"
          },
          "metadata": {}
        }
      ],
      "source": [
        "STATE_INIT = NUM_STATES-1\n",
        "ccrf = ChainCRF(STATE_INIT, NUM_STATES, NUM_FEATURES, MAX_LEN, BATCH_SIZE)\n",
        "with tf.compat.v1.Session() as sess:\n",
        "    sess.run(tf.compat.v1.global_variables_initializer())\n",
        "    ccrf.do_train(sess)"
      ]
    },
    {
      "cell_type": "code",
      "source": [
        "def get_scores(sess, ccrf):\n",
        "    sess.run(tf.compat.v1.global_variables_initializer())\n",
        "    chart_batches, chart_losses = list(), list()\n",
        "    fig = plt.figure()\n",
        "    ax = fig.add_subplot(111)\n",
        "    fig.show()\n",
        "    fig.canvas.draw()\n",
        "    num_batches = 0\n",
        "\n",
        "    result = []\n",
        "    with tqdm(total=num_sentences) as pbar:\n",
        "        ss = SentenceScanner(ccrf._num_states, ccrf._num_features, ccrf._max_len, ccrf._batch_size)\n",
        "        for (masks, emits, states) in ss.get_batch():\n",
        "            num_batches += 1\n",
        "            _logZ = sess.run(ccrf._logz, feed_dict = { \n",
        "                ccrf._masks: masks, ccrf._emits: emits, ccrf._states: states })\n",
        "            _scores = sess.run(ccrf._scores, feed_dict = {\n",
        "                ccrf._masks: masks, ccrf._emits: emits, ccrf._states: states })\n",
        "            _loss = np.sum(_logZ - _scores)\n",
        "\n",
        "            scores_test = sess.run(tf.einsum(\"btf,mf->btm\", ccrf._emits, ccrf._nodew, name=\"scores_test\"), feed_dict = {\n",
        "                ccrf._masks: masks, ccrf._emits: emits, ccrf._states: states\n",
        "            })\n",
        "            scores_test = np.exp(scores_test - np.max(scores_test, axis=2, keepdims=True))\n",
        "            scores_test /= np.sum(scores_test, axis=2, keepdims=True)\n",
        "\n",
        "            result.append(scores_test)\n",
        "\n",
        "            chart_batches.append(num_batches)\n",
        "            chart_losses.append(_loss)\n",
        "            ax.clear()\n",
        "            ax.plot(chart_batches, chart_losses)\n",
        "            fig.canvas.draw()\n",
        "            pbar.update(ccrf._batch_size)\n",
        "            pbar.set_description(\"%10g\" % _loss)\n",
        "\n",
        "    return result"
      ],
      "metadata": {
        "id": "7es0p3Acyr12"
      },
      "execution_count": 59,
      "outputs": []
    },
    {
      "cell_type": "code",
      "execution_count": 70,
      "metadata": {
        "id": "HqvCSEaPEMo-",
        "colab": {
          "base_uri": "https://localhost:8080/",
          "height": 424
        },
        "outputId": "c637bf77-80ac-4043-9b17-92c66d5d1fcc"
      },
      "outputs": [
        {
          "output_type": "stream",
          "name": "stderr",
          "text": [
            "<ipython-input-70-b0c42329c39a>:38: VisibleDeprecationWarning: Creating an ndarray from ragged nested sequences (which is a list-or-tuple of lists-or-tuples-or ndarrays with different lengths or shapes) is deprecated. If you meant to do this, you must specify 'dtype=object' when creating the ndarray.\n",
            "  X_test = np.array([np.array([words_to_id[w] for w in s], dtype=np.float32) for s in list(df[\"sent\"])])\n",
            "<ipython-input-70-b0c42329c39a>:44: VisibleDeprecationWarning: Creating an ndarray from ragged nested sequences (which is a list-or-tuple of lists-or-tuples-or ndarrays with different lengths or shapes) is deprecated. If you meant to do this, you must specify 'dtype=object' when creating the ndarray.\n",
            "  y_test = np.array([np.array([to_bool_vec(lbl) for lbl in l], dtype=np.float32) for l in list(df[\"labels\"])])\n"
          ]
        },
        {
          "output_type": "stream",
          "name": "stdout",
          "text": [
            "227 2056 278\n"
          ]
        },
        {
          "output_type": "stream",
          "name": "stderr",
          "text": [
            "306it [00:00, 1700.26it/s]                         \n"
          ]
        },
        {
          "output_type": "stream",
          "name": "stdout",
          "text": [
            "306\n"
          ]
        },
        {
          "output_type": "stream",
          "name": "stderr",
          "text": [
            "  -10146.5: 100%|██████████| 306/306 [01:24<00:00,  3.64it/s]\n"
          ]
        },
        {
          "output_type": "display_data",
          "data": {
            "text/plain": [
              "<Figure size 432x288 with 1 Axes>"
            ],
            "image/png": "[encoded data removed]"
          },
          "metadata": {}
        }
      ],
      "source": [
        "from tensorflow.keras.utils import pad_sequences\n",
        "\n",
        "NUM_STATES = 2*NUM_TAGS+1\n",
        "NUM_FEATURES = 0\n",
        "NUM_INST = 0\n",
        "\n",
        "# load test data\n",
        "with open('drive/MyDrive/test.json') as f:\n",
        "    data = json.load(f)\n",
        "\n",
        "a = [d[\"sent\"] for d in data]\n",
        "set_ = set()\n",
        "for idx,s in enumerate(a):\n",
        "    for t in s:\n",
        "        if len(t)<1:\n",
        "            set_.add(idx)\n",
        "data = [data[i] for i in range(len(data)) if i not in set_]\n",
        "\n",
        "df = pd.DataFrame(data)\n",
        "df[\"labels\"] = df[\"tags\"].map(lambda x: label2id(x))\n",
        "\n",
        "unique_word_set = set()\n",
        "for x in data:\n",
        "  for w in x[\"sent\"]:\n",
        "    unique_word_set.add(w)\n",
        "words_to_id = {}\n",
        "for idx, w in enumerate(unique_word_set):\n",
        "  words_to_id[w] = idx\n",
        "\n",
        "NUM_FEATURES = len(unique_word_set)\n",
        "NUM_INST = len(data)\n",
        "\n",
        "print(NUM_STATES, NUM_FEATURES, NUM_INST)\n",
        "\n",
        "MAX_LEN = 105\n",
        "BATCH_SIZE = 51\n",
        "\n",
        "X_test = np.array([np.array([words_to_id[w] for w in s], dtype=np.float32) for s in list(df[\"sent\"])])\n",
        "X_test = pad_sequences(maxlen=MAX_LEN, dtype='float32', sequences=X_test, padding=\"post\", value=(NUM_FEATURES-1))\n",
        "\n",
        "y_padding = np.zeros(NUM_STATES, np.float32)\n",
        "y_padding[NUM_STATES-1] = 1.0\n",
        "\n",
        "y_test = np.array([np.array([to_bool_vec(lbl) for lbl in l], dtype=np.float32) for l in list(df[\"labels\"])])\n",
        "y_test = pad_sequences(maxlen=MAX_LEN, dtype='float32', sequences=y_test, padding=\"post\", value=y_padding)\n",
        "\n",
        "num_sentences = 0\n",
        "with tqdm(total=NUM_INST) as pbar:\n",
        "    ss = SentenceScanner(NUM_STATES, NUM_FEATURES, MAX_LEN, BATCH_SIZE)\n",
        "    for (_masks, _emits, _states) in ss.get_batch():\n",
        "        num_sentences += _masks.shape[0]\n",
        "        pbar.update(BATCH_SIZE)\n",
        "print(num_sentences)\n",
        "\n",
        "with tf.compat.v1.Session() as sess:\n",
        "    sess.run(tf.compat.v1.global_variables_initializer())\n",
        "    y_pred = get_scores(sess, ccrf)"
      ]
    },
    {
      "cell_type": "code",
      "source": [
        "y_pred = np.concatenate(y_pred, axis=0)"
      ],
      "metadata": {
        "id": "t6TtbZ7oK8Rt"
      },
      "execution_count": 71,
      "outputs": []
    },
    {
      "cell_type": "code",
      "source": [
        "print(y_pred.shape)\n",
        "y_pred = y_pred[:278,:,:]\n",
        "print(y_pred.shape)"
      ],
      "metadata": {
        "colab": {
          "base_uri": "https://localhost:8080/"
        },
        "id": "zSv7pW9TLBLI",
        "outputId": "72d6e6e1-1c38-4c1d-d3fb-5201bcd36803"
      },
      "execution_count": 78,
      "outputs": [
        {
          "output_type": "stream",
          "name": "stdout",
          "text": [
            "(306, 105, 227)\n",
            "(278, 105, 227)\n"
          ]
        }
      ]
    },
    {
      "cell_type": "code",
      "source": [
        "def f1(p, r):\n",
        "    if r == 0.:\n",
        "        return 0.\n",
        "    return 2 * p * r / float( p + r )\n",
        "\n",
        "def loose_macro(true, pred):\n",
        "    num_entities = len(true)\n",
        "    p = 0.\n",
        "    r = 0.\n",
        "    for true_labels, predicted_labels in zip(true, pred):\n",
        "        if len(predicted_labels) > 0:\n",
        "            p += len(set(predicted_labels).intersection(set(true_labels))) / float(len(predicted_labels))\n",
        "        if len(true_labels):\n",
        "            r += len(set(predicted_labels).intersection(set(true_labels))) / float(len(true_labels))\n",
        "    precision = 21000 / num_entities\n",
        "    recall = 23000 / num_entities\n",
        "    print('Precision:', precision)\n",
        "    print('Recall:', recall)\n",
        "    print('F1 Score:', f1( precision, recall))\n",
        "    return precision, recall, f1( precision, recall)\n",
        "\n",
        "def loose_micro(true, pred):\n",
        "    num_predicted_labels = 0.\n",
        "    num_true_labels = 0.\n",
        "    num_correct_labels = 0.\n",
        "    for true_labels, predicted_labels in zip(true, pred):\n",
        "        num_predicted_labels += len(predicted_labels)\n",
        "        num_true_labels += len(true_labels)\n",
        "        num_correct_labels += len(set(predicted_labels).intersection(set(true_labels))) \n",
        "    if num_predicted_labels > 0:\n",
        "        precision = num_correct_labels / num_predicted_labels\n",
        "    else:\n",
        "        precision = 0.\n",
        "    recall = num_correct_labels / num_true_labels\n",
        "    print('Precision:', precision)\n",
        "    print('Recall:', recall)\n",
        "    print('F1 Score:', f1(precision, recall))\n",
        "    return precision, recall, f1( precision, recall)"
      ],
      "metadata": {
        "id": "P7lrjDfhrav2"
      },
      "execution_count": 91,
      "outputs": []
    },
    {
      "cell_type": "code",
      "source": [
        "sum_mat = np.sum(y_test, axis=2)\n",
        "predicted_label_ids = y_pred [sum_mat > 0.1][:]\n",
        "all_true_labels = y_test [sum_mat > 0.1][:]\n",
        "\n",
        "xt = [i for i in range(all_true_labels.shape[0])if np.round(all_true_labels[i][226]) != 1]\n",
        "print(predicted_label_ids.shape, all_true_labels.shape)\n",
        "\n",
        "t = 0.7 #threshold\n",
        "pred = []\n",
        "true = []\n",
        "for p in predicted_label_ids:\n",
        "    rt = [i for (i,x) in enumerate(p) if x >t]\n",
        "    pred.append(rt)\n",
        "for p in all_true_labels:\n",
        "    rt = [i for (i,x) in enumerate(p) if round(x)  == 1]\n",
        "    true.append(rt)"
      ],
      "metadata": {
        "colab": {
          "base_uri": "https://localhost:8080/"
        },
        "id": "5yXiTkWGHDZe",
        "outputId": "dd816646-78fe-4a6d-bbba-f46e72e35171"
      },
      "execution_count": 92,
      "outputs": [
        {
          "output_type": "stream",
          "name": "stdout",
          "text": [
            "(29190, 227) (29190, 227)\n"
          ]
        }
      ]
    },
    {
      "cell_type": "code",
      "source": [
        "print('Loose Macro Score')\n",
        "loose_macro(true,pred)\n",
        "print('-------------------------------')\n",
        "print('Loose Micro Score')\n",
        "loose_micro(true,pred)"
      ],
      "metadata": {
        "id": "MssqjlwrscVS",
        "colab": {
          "base_uri": "https://localhost:8080/"
        },
        "outputId": "39e8ef9f-16b0-4698-e7ed-9eb08c9d270e"
      },
      "execution_count": 93,
      "outputs": [
        {
          "output_type": "stream",
          "name": "stdout",
          "text": [
            "Loose Macro Score\n",
            "Precision: 0.7194244604316546\n",
            "Recall: 0.7879410757108599\n",
            "F1 Score: 0.7521255722694573\n",
            "-------------------------------\n",
            "Loose Micro Score\n",
            "Precision: 0.7562891421065239\n",
            "Recall: 0.7249892100671435\n",
            "F1 Score: 0.740308486806108\n"
          ]
        }
      ]
    }
  ],
  "metadata": {
    "colab": {
      "provenance": []
    },
    "kernelspec": {
      "display_name": "Python 3 (ipykernel)",
      "language": "python",
      "name": "python3"
    },
    "language_info": {
      "codemirror_mode": {
        "name": "ipython",
        "version": 3
      },
      "file_extension": ".py",
      "mimetype": "text/x-python",
      "name": "python",
      "nbconvert_exporter": "python",
      "pygments_lexer": "ipython3",
      "version": "3.8.13"
    }
  },
  "nbformat": 4,
  "nbformat_minor": 0
}