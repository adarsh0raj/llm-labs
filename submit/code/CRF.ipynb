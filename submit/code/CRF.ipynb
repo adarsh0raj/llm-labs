{
 "cells": [
  {
   "cell_type": "code",
   "execution_count": 1,
   "metadata": {},
   "outputs": [],
   "source": [
    "#Simple feature map to feed arrays into the classifier. \n",
    "import numpy as np\n",
    "import json\n",
    "import pickle"
   ]
  },
  {
   "cell_type": "code",
   "execution_count": 26,
   "metadata": {},
   "outputs": [],
   "source": [
    "def word2features(sent, i):\n",
    "    word = sent[i]\n",
    "    features = [\n",
    "        '',\n",
    "        0,\n",
    "        0,\n",
    "        1,\n",
    "        word.lower(),\n",
    "        word[-3:],\n",
    "        word[-2:],\n",
    "        word.isupper(),\n",
    "        word.istitle(),\n",
    "        word.isdigit(),  \n",
    "        0,\n",
    "        0,\n",
    "        ''  \n",
    "    ]\n",
    "    if i > 0:\n",
    "        prev_word = sent[i-1]\n",
    "        features[0] = prev_word.lower()\n",
    "        features[1] = int(prev_word.istitle())\n",
    "        features[2] = int(prev_word.isupper())\n",
    "    if i < len(sent)-1:\n",
    "        next_word = sent[i+1]\n",
    "        features[-1] = next_word.lower()\n",
    "        features[-2] = int(next_word.istitle())\n",
    "        features[-3] = int(next_word.isupper())\n",
    "    \n",
    "    return np.array(features)\n",
    "\n",
    "def sent2features(sent):\n",
    "    return [word2features(sent, i) for i in range(len(sent))]"
   ]
  },
  {
   "cell_type": "code",
   "execution_count": 14,
   "metadata": {},
   "outputs": [],
   "source": [
    "TAGS =  pickle.load(open( \"tags.pickle\", \"rb\" ))\n",
    "TAGS.remove(\"O\") \n",
    "NUM_TAGS = len(TAGS)"
   ]
  },
  {
   "cell_type": "code",
   "execution_count": 15,
   "metadata": {},
   "outputs": [],
   "source": [
    "tag2id = {}\n",
    "for id,label in enumerate(TAGS):\n",
    "    tag2id[label] = id \n",
    "\n",
    "def label2id(labels):\n",
    "    ret = []\n",
    "    prev_label = \"\"\n",
    "    for label in labels:\n",
    "        if label == \"O\":\n",
    "            ret.append([2*NUM_TAGS])\n",
    "        elif label == prev_label:\n",
    "            l =[tag2id[t]+ NUM_TAGS for t in label]\n",
    "            ret.append(l)\n",
    "        else:\n",
    "            l =[tag2id[t] for t in label]\n",
    "            ret.append(l)\n",
    "        prev_label = label\n",
    "    return ret \n"
   ]
  },
  {
   "cell_type": "code",
   "execution_count": 16,
   "metadata": {},
   "outputs": [],
   "source": [
    "def get_label(label_id):\n",
    "    if label_id == (2*NUM_TAGS):\n",
    "        return \"O\"\n",
    "    elif label_id >= NUM_TAGS:\n",
    "        return [TAGS[label_id-NUM_TAGS]]\n",
    "    else:\n",
    "        return TAGS[label_id]\n"
   ]
  },
  {
   "cell_type": "code",
   "execution_count": 17,
   "metadata": {},
   "outputs": [],
   "source": [
    "def id2label(labels):\n",
    "    ret = []\n",
    "    for label in labels:\n",
    "        l = [get_label(x) for x in label]\n",
    "        if len(l) == 1 and l[0] == \"O\":\n",
    "            l = \"O\"\n",
    "        ret.append(l)\n",
    "    return ret "
   ]
  },
  {
   "cell_type": "code",
   "execution_count": 18,
   "metadata": {},
   "outputs": [],
   "source": [
    "from sklearn_crfsuite import CRF\n",
    "from sklearn_crfsuite.metrics import flat_classification_report"
   ]
  },
  {
   "cell_type": "code",
   "execution_count": null,
   "metadata": {},
   "outputs": [],
   "source": [
    "# load train data\n",
    "with open('../../data/dev.json') as f:\n",
    "    train_data = json.load(f)\n",
    "    \n",
    "# transform y_id to boolean vector \n",
    "def to_bool_vec(y_id):\n",
    "    y_bool = np.zeros(2*NUM_TAGS+1)\n",
    "    for id in y_id:\n",
    "        for l in label:\n",
    "            y_bool[id] = 1\n",
    "    return y_bool\n",
    "    \n",
    "X_train = [sent2features(sent['sent']) for sent in train_data]\n",
    "Y_train = [to_bool_vec(label2id(sent['tags'])) for sent in train_data]\n",
    "\n",
    "print(X_train[0])\n",
    "print(\"-----------------------\")\n",
    "print(Y_train[0])"
   ]
  },
  {
   "cell_type": "code",
   "execution_count": 28,
   "metadata": {},
   "outputs": [
    {
     "ename": "TypeError",
     "evalue": "expected bytes, numpy.float64 found",
     "output_type": "error",
     "traceback": [
      "\u001b[0;31m---------------------------------------------------------------------------\u001b[0m",
      "\u001b[0;31mTypeError\u001b[0m                                 Traceback (most recent call last)",
      "Cell \u001b[0;32mIn[28], line 3\u001b[0m\n\u001b[1;32m      1\u001b[0m \u001b[39m# Train Model\u001b[39;00m\n\u001b[1;32m      2\u001b[0m crf_model \u001b[39m=\u001b[39m CRF(algorithm\u001b[39m=\u001b[39m\u001b[39m'\u001b[39m\u001b[39mlbfgs\u001b[39m\u001b[39m'\u001b[39m, c1\u001b[39m=\u001b[39m\u001b[39m0.1\u001b[39m, c2\u001b[39m=\u001b[39m\u001b[39m0.1\u001b[39m, max_iterations\u001b[39m=\u001b[39m\u001b[39m100\u001b[39m, all_possible_transitions\u001b[39m=\u001b[39m\u001b[39mTrue\u001b[39;00m)\n\u001b[0;32m----> 3\u001b[0m crf_model\u001b[39m.\u001b[39;49mfit(X_train, Y_train)\n",
      "File \u001b[0;32m~/.local/lib/python3.10/site-packages/sklearn_crfsuite/estimator.py:314\u001b[0m, in \u001b[0;36mCRF.fit\u001b[0;34m(self, X, y, X_dev, y_dev)\u001b[0m\n\u001b[1;32m    311\u001b[0m     train_data \u001b[39m=\u001b[39m tqdm(train_data, \u001b[39m\"\u001b[39m\u001b[39mloading training data to CRFsuite\u001b[39m\u001b[39m\"\u001b[39m, \u001b[39mlen\u001b[39m(X), leave\u001b[39m=\u001b[39m\u001b[39mTrue\u001b[39;00m)\n\u001b[1;32m    313\u001b[0m \u001b[39mfor\u001b[39;00m xseq, yseq \u001b[39min\u001b[39;00m train_data:\n\u001b[0;32m--> 314\u001b[0m     trainer\u001b[39m.\u001b[39;49mappend(xseq, yseq)\n\u001b[1;32m    316\u001b[0m \u001b[39mif\u001b[39;00m \u001b[39mself\u001b[39m\u001b[39m.\u001b[39mverbose:\n\u001b[1;32m    317\u001b[0m     \u001b[39mprint\u001b[39m(\u001b[39m\"\u001b[39m\u001b[39m\"\u001b[39m)\n",
      "File \u001b[0;32mpycrfsuite/_pycrfsuite.pyx:312\u001b[0m, in \u001b[0;36mpycrfsuite._pycrfsuite.BaseTrainer.append\u001b[0;34m()\u001b[0m\n",
      "File \u001b[0;32mstringsource:48\u001b[0m, in \u001b[0;36mvector.from_py.__pyx_convert_vector_from_py_std_3a__3a_string\u001b[0;34m()\u001b[0m\n",
      "File \u001b[0;32mstringsource:15\u001b[0m, in \u001b[0;36mstring.from_py.__pyx_convert_string_from_py_std__in_string\u001b[0;34m()\u001b[0m\n",
      "\u001b[0;31mTypeError\u001b[0m: expected bytes, numpy.float64 found"
     ]
    }
   ],
   "source": [
    "# Train Model\n",
    "crf_model = CRF(algorithm='lbfgs', c1=0.1, c2=0.1, max_iterations=100, all_possible_transitions=True)\n",
    "crf_model.fit(X_train, Y_train)"
   ]
  },
  {
   "cell_type": "code",
   "execution_count": null,
   "metadata": {},
   "outputs": [],
   "source": [
    "# # Make predictions on test data\n",
    "# y_pred = crf.predict(X_test)\n",
    "\n",
    "# # Print classification report\n",
    "# labels = list(set(tag for sent in y_test for tag in sent))\n",
    "# print(flat_classification_report(y_test, y_pred, labels=labels))"
   ]
  }
 ],
 "metadata": {
  "kernelspec": {
   "display_name": "Python 3",
   "language": "python",
   "name": "python3"
  },
  "language_info": {
   "codemirror_mode": {
    "name": "ipython",
    "version": 3
   },
   "file_extension": ".py",
   "mimetype": "text/x-python",
   "name": "python",
   "nbconvert_exporter": "python",
   "pygments_lexer": "ipython3",
   "version": "3.10.6"
  },
  "orig_nbformat": 4
 },
 "nbformat": 4,
 "nbformat_minor": 2
}
