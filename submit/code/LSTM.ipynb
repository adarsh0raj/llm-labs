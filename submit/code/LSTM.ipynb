{
  "cells": [
    {
      "cell_type": "code",
      "execution_count": 1,
      "metadata": {
        "colab": {
          "base_uri": "https://localhost:8080/"
        },
        "id": "ueXwRsSKmmkc",
        "outputId": "331b933a-2590-419b-e930-a809b83ee439"
      },
      "outputs": [
        {
          "name": "stdout",
          "output_type": "stream",
          "text": [
            "Tensorflow version: 2.11.0\n",
            "GPU detected: [PhysicalDevice(name='/physical_device:GPU:0', device_type='GPU')]\n"
          ]
        }
      ],
      "source": [
        "import matplotlib.pyplot as plt\n",
        "import pandas as pd\n",
        "import pickle\n",
        "import numpy as np\n",
        "import json\n",
        "import regex as re\n",
        "np.random.seed(0)\n",
        "plt.style.use(\"ggplot\")\n",
        "\n",
        "import tensorflow as tf\n",
        "print('Tensorflow version:', tf.__version__)\n",
        "print('GPU detected:', tf.config.list_physical_devices('GPU'))"
      ]
    },
    {
      "cell_type": "code",
      "execution_count": 2,
      "metadata": {
        "id": "fHo4xrNCmu5O"
      },
      "outputs": [],
      "source": [
        "def word_shape_features(word):\n",
        "    return np.array([word.istitle(), word.islower(), word.isupper(), len(word),\n",
        "                     word.isdigit(),  word.isalpha(),word.isalnum(), word.isnumeric()])\n",
        "\n",
        "def get_word_features(word):\n",
        "    return word_shape_features(word)\n",
        "\n",
        "def get_sent_features(sent):\n",
        "    ret = []\n",
        "    for word in sent:\n",
        "        ret.append(get_word_features(word))\n",
        "    return ret"
      ]
    },
    {
      "cell_type": "code",
      "execution_count": 3,
      "metadata": {
        "id": "v3N6pn1lneJm"
      },
      "outputs": [],
      "source": [
        "TAGS =  pickle.load(open( \"tags.pickle\", \"rb\" ))\n",
        "TAGS.remove(\"O\") \n",
        "NUM_TAGS = len(TAGS)\n",
        "# print(NUM_TAGS)\n",
        "\n",
        "tag2id = {}\n",
        "for id,label in enumerate(TAGS):\n",
        "    tag2id[label] = id \n",
        "\n",
        "def label2id(labels):\n",
        "    ret = []\n",
        "    prev_label = \"\"\n",
        "    for label in labels:\n",
        "        if label == \"O\":\n",
        "            ret.append([2*NUM_TAGS])\n",
        "        elif label == prev_label:\n",
        "            l =[tag2id[t]+ NUM_TAGS for t in label]\n",
        "            ret.append(l)\n",
        "        else:\n",
        "            l =[tag2id[t] for t in label]\n",
        "            ret.append(l)\n",
        "        prev_label = label\n",
        "    return ret "
      ]
    },
    {
      "cell_type": "code",
      "execution_count": 4,
      "metadata": {
        "id": "BjsBOtFbnxis"
      },
      "outputs": [],
      "source": [
        "def get_label(label_id):\n",
        "    if label_id == (2*NUM_TAGS):\n",
        "        return \"O\"\n",
        "    elif label_id >= NUM_TAGS:\n",
        "        return [TAGS[label_id-NUM_TAGS]]\n",
        "    else:\n",
        "        return TAGS[label_id]\n",
        "\n",
        "def id2label(labels):\n",
        "    ret = []\n",
        "    for label in labels:\n",
        "        l = [get_label(x) for x in label]\n",
        "        if len(l) == 1 and l[0] == \"O\":\n",
        "            l = \"O\"\n",
        "        ret.append(l)\n",
        "    return ret "
      ]
    },
    {
      "cell_type": "code",
      "execution_count": 5,
      "metadata": {
        "id": "lKfdMjXXn-81"
      },
      "outputs": [],
      "source": [
        "def clean_text(sent):\n",
        "    '''\n",
        "    This is text cleaning function\n",
        "    '''\n",
        "    ret_sent= []\n",
        "    for txt in sent:\n",
        "      fil_txt = re.sub('[^A-Za-z0-9]+', '', str(txt))\n",
        "      if len(fil_txt) == 0:\n",
        "        fil_txt  = txt [0]\n",
        "      ret_sent.append(fil_txt)\n",
        "    assert(len(ret_sent) == len(sent))\n",
        "    return ret_sent"
      ]
    },
    {
      "cell_type": "code",
      "execution_count": 6,
      "metadata": {
        "id": "BvqdHHZFoJ3z"
      },
      "outputs": [],
      "source": [
        "f = open('dev.json')\n",
        "data = json.load(f)\n",
        "f.close()"
      ]
    },
    {
      "cell_type": "code",
      "execution_count": 7,
      "metadata": {
        "id": "Z6_6mBLjogGo"
      },
      "outputs": [],
      "source": [
        "a = [d[\"sent\"] for d in data]\n",
        "set_ = set()\n",
        "for idx,s in enumerate(a):\n",
        "    for t in s:\n",
        "        if len(t)<1:\n",
        "            set_.add(idx)\n",
        "data = [data[i] for i in range(len(data)) if i not in set_]"
      ]
    },
    {
      "cell_type": "code",
      "execution_count": 8,
      "metadata": {
        "id": "GDcm5dM6o-H3"
      },
      "outputs": [],
      "source": [
        "df = pd.DataFrame(data)\n",
        "data_cp = data.copy()\n",
        "df[\"sent\"] = df[\"sent\"].map( lambda x: clean_text(x))\n",
        "df[\"features\"] = df[\"sent\"].map(lambda x: get_sent_features(x))\n",
        "df[\"labels\"] = df[\"tags\"].map(lambda x: label2id(x))\n"
      ]
    },
    {
      "cell_type": "code",
      "execution_count": 9,
      "metadata": {
        "colab": {
          "base_uri": "https://localhost:8080/"
        },
        "id": "FOvWQfXhtCEX",
        "outputId": "ac2c41c9-076b-488b-93e7-90e2ecbac93f"
      },
      "outputs": [
        {
          "name": "stdout",
          "output_type": "stream",
          "text": [
            "Number of training sentences: 9,956\n"
          ]
        }
      ],
      "source": [
        "sentences = list(df[\"sent\"])\n",
        "labels = list(df[\"labels\"])\n",
        "unique_word_set = set()\n",
        "for x in sentences:\n",
        "  for w in x:\n",
        "    unique_word_set.add(w)\n",
        "words_to_id = {}\n",
        "for idx, w in enumerate(unique_word_set):\n",
        "  words_to_id[w] = idx\n",
        "\n",
        "num_words = len(unique_word_set)\n",
        "print(\"Number of training sentences: {:,}\".format(len(sentences)))"
      ]
    },
    {
      "cell_type": "code",
      "execution_count": 28,
      "metadata": {
        "id": "LEioTz9u267o"
      },
      "outputs": [],
      "source": [
        "def to_bool_vec(y_id):\n",
        "    y_bool = np.zeros(2*NUM_TAGS+1, np.int32)\n",
        "    num_labels = len(y_id)\n",
        "    for id in y_id:\n",
        "        # for l in label:\n",
        "          y_bool[id] = 1\n",
        "    return y_bool"
      ]
    },
    {
      "cell_type": "code",
      "execution_count": 29,
      "metadata": {
        "colab": {
          "base_uri": "https://localhost:8080/"
        },
        "id": "MIe06zF3pyOv",
        "outputId": "4f8f07c7-0c66-455e-bf28-82d0017faab0"
      },
      "outputs": [
        {
          "name": "stdout",
          "output_type": "stream",
          "text": [
            "(9956, 50)\n",
            "(9956, 50, 227)\n"
          ]
        }
      ],
      "source": [
        "from tensorflow.keras.utils import pad_sequences\n",
        "\n",
        "max_len = 50\n",
        "\n",
        "X = [[words_to_id[w] for w in s] for s in sentences]\n",
        "X = pad_sequences(maxlen=max_len, sequences=X, padding=\"post\", value=num_words-1)\n",
        "\n",
        "print(X.shape)\n",
        "\n",
        "y_padding = np.zeros(2*NUM_TAGS+1, np.int32)\n",
        "y_padding[2*NUM_TAGS] = 1\n",
        "\n",
        "y = [[to_bool_vec(lbl) for lbl in l] for l in labels]\n",
        "y = pad_sequences(maxlen=max_len, sequences=y, padding=\"post\", value=y_padding)\n",
        "\n",
        "# y = [pad_sequences(maxlen=max_len, sequences=l, padding=\"post\", value=NUM_TAGS*2) for l in labels]\n",
        "# y = pad_sequences(maxlen=max_len, sequences=y, padding=\"post\", value=[2*NUM_TAGS]*max_len)\n",
        "\n",
        "print(y.shape)"
      ]
    },
    {
      "cell_type": "code",
      "execution_count": 30,
      "metadata": {
        "id": "Mj1LULVGt97J"
      },
      "outputs": [],
      "source": [
        "from sklearn.model_selection import train_test_split\n",
        "x_train, x_test, y_train, y_test = train_test_split(X, y, test_size=0.2, random_state=1)"
      ]
    },
    {
      "cell_type": "code",
      "execution_count": 31,
      "metadata": {
        "id": "OOA5nYaGqSXc"
      },
      "outputs": [],
      "source": [
        "from tensorflow.keras import Model, Input\n",
        "from tensorflow.keras.layers import LSTM, Embedding, Dense\n",
        "from tensorflow.keras.layers import TimeDistributed, SpatialDropout1D, Bidirectional"
      ]
    },
    {
      "cell_type": "code",
      "execution_count": 33,
      "metadata": {
        "colab": {
          "base_uri": "https://localhost:8080/"
        },
        "id": "WlnHfZVdtY-z",
        "outputId": "725c4cab-5c89-4971-9ed8-e360579eaaed"
      },
      "outputs": [
        {
          "name": "stderr",
          "output_type": "stream",
          "text": [
            "WARNING:tensorflow:Layer lstm_2 will not use cuDNN kernels since it doesn't meet the criteria. It will use a generic GPU kernel as fallback when running on GPU.\n",
            "WARNING:tensorflow:Layer lstm_2 will not use cuDNN kernels since it doesn't meet the criteria. It will use a generic GPU kernel as fallback when running on GPU.\n",
            "WARNING:tensorflow:Layer lstm_2 will not use cuDNN kernels since it doesn't meet the criteria. It will use a generic GPU kernel as fallback when running on GPU.\n"
          ]
        },
        {
          "name": "stdout",
          "output_type": "stream",
          "text": [
            "Model: \"model_2\"\n",
            "_________________________________________________________________\n",
            " Layer (type)                Output Shape              Param #   \n",
            "=================================================================\n",
            " input_3 (InputLayer)        [(None, 50)]              0         \n",
            "                                                                 \n",
            " embedding_2 (Embedding)     (None, 50, 50)            2109600   \n",
            "                                                                 \n",
            " spatial_dropout1d_2 (Spatia  (None, 50, 50)           0         \n",
            " lDropout1D)                                                     \n",
            "                                                                 \n",
            " bidirectional_2 (Bidirectio  (None, 50, 200)          120800    \n",
            " nal)                                                            \n",
            "                                                                 \n",
            " time_distributed_2 (TimeDis  (None, 50, 227)          45627     \n",
            " tributed)                                                       \n",
            "                                                                 \n",
            "=================================================================\n",
            "Total params: 2,276,027\n",
            "Trainable params: 2,276,027\n",
            "Non-trainable params: 0\n",
            "_________________________________________________________________\n"
          ]
        }
      ],
      "source": [
        "input_word = Input(shape=(max_len,))\n",
        "model = Embedding(input_dim=num_words, output_dim=max_len, input_length=max_len)(input_word)\n",
        "model = SpatialDropout1D(0.1)(model)\n",
        "model = Bidirectional(LSTM(units=100, return_sequences=True, recurrent_dropout=0.1))(model)\n",
        "out = TimeDistributed(Dense(2*NUM_TAGS+1, activation=\"softmax\"))(model)\n",
        "model = Model(input_word, out)\n",
        "model.summary()"
      ]
    },
    {
      "cell_type": "code",
      "execution_count": 34,
      "metadata": {
        "id": "Y4EW3JietcAr"
      },
      "outputs": [],
      "source": [
        "model.compile(optimizer=\"adam\",\n",
        "              loss=\"binary_crossentropy\",\n",
        "              metrics=[\"accuracy\"])"
      ]
    },
    {
      "cell_type": "code",
      "execution_count": 35,
      "metadata": {
        "id": "BY_dOXl4tuPk"
      },
      "outputs": [],
      "source": [
        "from tensorflow.keras.callbacks import ModelCheckpoint, EarlyStopping\n",
        "from livelossplot import PlotLossesKeras"
      ]
    },
    {
      "cell_type": "code",
      "execution_count": 36,
      "metadata": {
        "colab": {
          "base_uri": "https://localhost:8080/",
          "height": 741
        },
        "id": "dr4k20GIty0I",
        "outputId": "2954a32d-6be8-46fd-ba05-99418240ebc6"
      },
      "outputs": [
        {
          "data": {
            "image/png": "[encoded data removed]",
            "text/plain": [
              "<Figure size 864x576 with 2 Axes>"
            ]
          },
          "metadata": {},
          "output_type": "display_data"
        },
        {
          "name": "stdout",
          "output_type": "stream",
          "text": [
            "accuracy\n",
            "\ttraining         \t (min:    0.952, max:    0.958, cur:    0.958)\n",
            "\tvalidation       \t (min:    0.958, max:    0.958, cur:    0.958)\n",
            "Loss\n",
            "\ttraining         \t (min:    0.003, max:    0.006, cur:    0.003)\n",
            "\tvalidation       \t (min:    0.003, max:    0.004, cur:    0.003)\n",
            "\n",
            "Epoch 2: val_loss improved from 0.00352 to 0.00316, saving model to model_weights.h5\n",
            "249/249 [==============================] - 103s 414ms/step - loss: 0.0032 - accuracy: 0.9582 - val_loss: 0.0032 - val_accuracy: 0.9583\n"
          ]
        }
      ],
      "source": [
        "chkpt = ModelCheckpoint(\"model_weights.h5\", monitor='val_loss',verbose=1, save_best_only=True, save_weights_only=True, mode='min')\n",
        "early_stopping = EarlyStopping(monitor='val_accuracy', min_delta=0, patience=1, verbose=0, mode='max', baseline=None, restore_best_weights=False)\n",
        "callbacks = [PlotLossesKeras(), chkpt, early_stopping]\n",
        "\n",
        "history = model.fit(\n",
        "    x=x_train,\n",
        "    y=y_train,\n",
        "    validation_data=(x_test,y_test),\n",
        "    batch_size=32, \n",
        "    epochs=3,\n",
        "    callbacks=callbacks,\n",
        "    verbose=1\n",
        ")"
      ]
    },
    {
      "cell_type": "code",
      "execution_count": 37,
      "metadata": {
        "colab": {
          "base_uri": "https://localhost:8080/"
        },
        "id": "GsS5PjwduEXn",
        "outputId": "672cfe92-35e3-4c2b-de2c-666348ac19dc"
      },
      "outputs": [
        {
          "name": "stdout",
          "output_type": "stream",
          "text": [
            "63/63 [==============================] - 2s 35ms/step - loss: 0.0032 - accuracy: 0.9583\n"
          ]
        },
        {
          "data": {
            "text/plain": [
              "[0.003162969136610627, 0.9582731127738953]"
            ]
          },
          "execution_count": 37,
          "metadata": {},
          "output_type": "execute_result"
        }
      ],
      "source": [
        "model.evaluate(x_test, y_test)"
      ]
    },
    {
      "cell_type": "code",
      "execution_count": null,
      "metadata": {
        "id": "fM3fMQZ045-q"
      },
      "outputs": [],
      "source": []
    }
  ],
  "metadata": {
    "accelerator": "GPU",
    "colab": {
      "provenance": []
    },
    "gpuClass": "standard",
    "kernelspec": {
      "display_name": "Python 3",
      "name": "python3"
    },
    "language_info": {
      "name": "python",
      "version": "3.10.6"
    }
  },
  "nbformat": 4,
  "nbformat_minor": 0
}
