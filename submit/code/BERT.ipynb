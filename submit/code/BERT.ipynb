{
 "cells": [
  {
   "cell_type": "code",
   "execution_count": 1,
   "metadata": {},
   "outputs": [],
   "source": [
    "#Simple feature map to feed arrays into the classifier. \n",
    "import numpy as np\n",
    "import json\n"
   ]
  },
  {
   "cell_type": "code",
   "execution_count": 2,
   "metadata": {},
   "outputs": [],
   "source": [
    "f = open('data/test.json')\n",
    "data = json.load(f)\n",
    "f.close()"
   ]
  },
  {
   "cell_type": "code",
   "execution_count": 25,
   "metadata": {},
   "outputs": [
    {
     "data": {
      "text/plain": [
       "dict_keys(['id', 'sent', 'tags'])"
      ]
     },
     "execution_count": 25,
     "metadata": {},
     "output_type": "execute_result"
    }
   ],
   "source": [
    "data[0].keys()"
   ]
  },
  {
   "cell_type": "code",
   "execution_count": 3,
   "metadata": {},
   "outputs": [],
   "source": [
    "def word_shape_features(word):\n",
    "    return np.array([word.istitle(), word.islower(), word.isupper(), len(word),\n",
    "                     word.isdigit(),  word.isalpha(),word.isalnum(), word.isnumeric()])\n",
    "\n",
    "def get_word_features(word):\n",
    "    return word_shape_features(word)\n",
    "\n",
    "def get_sent_features(sent):\n",
    "    ret = []\n",
    "    for word in sent:\n",
    "        ret.append(get_word_features(word))\n",
    "    return ret"
   ]
  },
  {
   "cell_type": "code",
   "execution_count": null,
   "metadata": {},
   "outputs": [],
   "source": [
    "labels = [\"abc\",\"def\"]\n"
   ]
  },
  {
   "cell_type": "code",
   "execution_count": 13,
   "metadata": {},
   "outputs": [],
   "source": [
    "label2id = {}\n",
    "for id,label in enumerate(labels):\n",
    "    label2id[label] = id \n",
    "\n",
    "def get_labels(tags):\n",
    "    ret = []\n",
    "    prev_tag = \"\"\n",
    "    for tag in tags:\n",
    "        if tag == \"O\":\n",
    "            ret.append(2*len(labels))\n",
    "        elif tag == prev_tag:\n",
    "            ret.append(label2id[tag]+ len(labels))\n",
    "        else:\n",
    "            ret.append(label2id[tag])\n",
    "        prev_tag = tag\n",
    "    return ret \n"
   ]
  },
  {
   "cell_type": "code",
   "execution_count": 18,
   "metadata": {},
   "outputs": [
    {
     "data": {
      "text/plain": [
       "[4, 0]"
      ]
     },
     "execution_count": 18,
     "metadata": {},
     "output_type": "execute_result"
    }
   ],
   "source": [
    "get_labels([\"O\",\"abc\"])"
   ]
  },
  {
   "cell_type": "code",
   "execution_count": 9,
   "metadata": {},
   "outputs": [],
   "source": [
    "for id, d in enumerate(data):\n",
    "    data[id][\"features\"] = get_sent_features(d[\"sent\"])\n",
    "    data[id][\"labels\"] = get_labels(d[\"tags\"])\n",
    "    # break\n",
    "    # print(d[\"sent\"])\n",
    "    # print(d[\"tags\"])"
   ]
  },
  {
   "cell_type": "code",
   "execution_count": 11,
   "metadata": {},
   "outputs": [
    {
     "data": {
      "text/plain": [
       "{'id': 0,\n",
       " 'sent': ['A',\n",
       "  'handful',\n",
       "  'of',\n",
       "  'professors',\n",
       "  'in',\n",
       "  'the',\n",
       "  'UW',\n",
       "  'Department',\n",
       "  'of',\n",
       "  'Chemistry',\n",
       "  'are',\n",
       "  'being',\n",
       "  'recognized',\n",
       "  'by',\n",
       "  'the',\n",
       "  'American',\n",
       "  'Association',\n",
       "  'for',\n",
       "  'the',\n",
       "  'Advancement',\n",
       "  'of',\n",
       "  'Science',\n",
       "  '-LRB-',\n",
       "  'AAAS',\n",
       "  '-RRB-',\n",
       "  'for',\n",
       "  'their',\n",
       "  'efforts',\n",
       "  'and',\n",
       "  'contributions',\n",
       "  'to',\n",
       "  'the',\n",
       "  'scientific',\n",
       "  'community',\n",
       "  '.'],\n",
       " 'tags': ['O',\n",
       "  'O',\n",
       "  'O',\n",
       "  'O',\n",
       "  'O',\n",
       "  'O',\n",
       "  ['/organization/educational_institution', '/organization'],\n",
       "  ['/education/department', '/organization'],\n",
       "  ['/education/department', '/organization'],\n",
       "  ['/education/department', '/organization'],\n",
       "  'O',\n",
       "  'O',\n",
       "  'O',\n",
       "  'O',\n",
       "  'O',\n",
       "  ['/organization'],\n",
       "  ['/organization'],\n",
       "  ['/organization'],\n",
       "  ['/organization'],\n",
       "  ['/organization'],\n",
       "  ['/organization'],\n",
       "  ['/organization'],\n",
       "  'O',\n",
       "  ['/organization'],\n",
       "  'O',\n",
       "  'O',\n",
       "  'O',\n",
       "  'O',\n",
       "  'O',\n",
       "  'O',\n",
       "  'O',\n",
       "  'O',\n",
       "  'O',\n",
       "  'O',\n",
       "  'O'],\n",
       " 'features': [array([1, 0, 1, 1, 0, 1, 1, 0]),\n",
       "  array([0, 1, 0, 7, 0, 1, 1, 0]),\n",
       "  array([0, 1, 0, 2, 0, 1, 1, 0]),\n",
       "  array([ 0,  1,  0, 10,  0,  1,  1,  0]),\n",
       "  array([0, 1, 0, 2, 0, 1, 1, 0]),\n",
       "  array([0, 1, 0, 3, 0, 1, 1, 0]),\n",
       "  array([0, 0, 1, 2, 0, 1, 1, 0]),\n",
       "  array([ 1,  0,  0, 10,  0,  1,  1,  0]),\n",
       "  array([0, 1, 0, 2, 0, 1, 1, 0]),\n",
       "  array([1, 0, 0, 9, 0, 1, 1, 0]),\n",
       "  array([0, 1, 0, 3, 0, 1, 1, 0]),\n",
       "  array([0, 1, 0, 5, 0, 1, 1, 0]),\n",
       "  array([ 0,  1,  0, 10,  0,  1,  1,  0]),\n",
       "  array([0, 1, 0, 2, 0, 1, 1, 0]),\n",
       "  array([0, 1, 0, 3, 0, 1, 1, 0]),\n",
       "  array([1, 0, 0, 8, 0, 1, 1, 0]),\n",
       "  array([ 1,  0,  0, 11,  0,  1,  1,  0]),\n",
       "  array([0, 1, 0, 3, 0, 1, 1, 0]),\n",
       "  array([0, 1, 0, 3, 0, 1, 1, 0]),\n",
       "  array([ 1,  0,  0, 11,  0,  1,  1,  0]),\n",
       "  array([0, 1, 0, 2, 0, 1, 1, 0]),\n",
       "  array([1, 0, 0, 7, 0, 1, 1, 0]),\n",
       "  array([0, 0, 1, 5, 0, 0, 0, 0]),\n",
       "  array([0, 0, 1, 4, 0, 1, 1, 0]),\n",
       "  array([0, 0, 1, 5, 0, 0, 0, 0]),\n",
       "  array([0, 1, 0, 3, 0, 1, 1, 0]),\n",
       "  array([0, 1, 0, 5, 0, 1, 1, 0]),\n",
       "  array([0, 1, 0, 7, 0, 1, 1, 0]),\n",
       "  array([0, 1, 0, 3, 0, 1, 1, 0]),\n",
       "  array([ 0,  1,  0, 13,  0,  1,  1,  0]),\n",
       "  array([0, 1, 0, 2, 0, 1, 1, 0]),\n",
       "  array([0, 1, 0, 3, 0, 1, 1, 0]),\n",
       "  array([ 0,  1,  0, 10,  0,  1,  1,  0]),\n",
       "  array([0, 1, 0, 9, 0, 1, 1, 0]),\n",
       "  array([0, 0, 0, 1, 0, 0, 0, 0])]}"
      ]
     },
     "execution_count": 11,
     "metadata": {},
     "output_type": "execute_result"
    }
   ],
   "source": [
    "data[0]"
   ]
  },
  {
   "cell_type": "code",
   "execution_count": null,
   "metadata": {},
   "outputs": [],
   "source": [
    "# Word identity\n",
    "# word embeddings\n",
    "# Word suffix (last 2 and 3 characters)\n",
    "# Word prefix (first 2 and 3 characters)\n",
    "# Whether the word contains a hyphen\n",
    "# Whether the word contains a dot\n",
    "# Whether the word contains a slash"
   ]
  },
  {
   "cell_type": "code",
   "execution_count": null,
   "metadata": {},
   "outputs": [],
   "source": []
  }
 ],
 "metadata": {
  "kernelspec": {
   "display_name": "Python 3.10.6 64-bit",
   "language": "python",
   "name": "python3"
  },
  "language_info": {
   "codemirror_mode": {
    "name": "ipython",
    "version": 3
   },
   "file_extension": ".py",
   "mimetype": "text/x-python",
   "name": "python",
   "nbconvert_exporter": "python",
   "pygments_lexer": "ipython3",
   "version": "3.10.6"
  },
  "orig_nbformat": 4,
  "vscode": {
   "interpreter": {
    "hash": "916dbcbb3f70747c44a77c7bcd40155683ae19c65e1c03b4aa3499c5328201f1"
   }
  }
 },
 "nbformat": 4,
 "nbformat_minor": 2
}
